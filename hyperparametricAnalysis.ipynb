{
 "cells": [
  {
   "cell_type": "code",
   "execution_count": null,
   "id": "bac96db4",
   "metadata": {},
   "outputs": [],
   "source": [
    "'''\n",
    "Plots are from PhD candidate Yinfei Yang at Imperial College London, with some modifications\n",
    "'''\n",
    "#settings of plots from Methods for Data Science guide for plotting at Imperial College London\n",
    "import os\n",
    "import random\n",
    "import numpy as np\n",
    "import torch\n",
    "import matplotlib.pyplot as plt\n",
    "# we define a mix of fontsizes, for different parts of a plot\n",
    "SMALL_SIZE = 12\n",
    "MEDIUM_SIZE = 16\n",
    "BIGGER_SIZE = 20\n",
    "\n",
    "# example of how you can use these fontsizes to set a global configuration for matplotlib;\n",
    "# you should assign them based on the specific appearance of the figures you are producing\n",
    "plt.rc('font', size=SMALL_SIZE)          # controls default text sizes\n",
    "plt.rc('axes', titlesize=BIGGER_SIZE)    # fontsize of the axes title\n",
    "plt.rc('axes', labelsize=MEDIUM_SIZE)    # fontsize of the x and y labels\n",
    "plt.rc('xtick', labelsize=SMALL_SIZE)    # fontsize of the tick labels\n",
    "plt.rc('ytick', labelsize=SMALL_SIZE)    # fontsize of the tick labels\n",
    "plt.rc('legend', fontsize=MEDIUM_SIZE)   # legend fontsize\n",
    "plt.rc('figure', titlesize=BIGGER_SIZE)  # fontsize of the figure title\n",
    "\n",
    "#setting seeds\n",
    "seed = 6\n",
    "random.seed(seed )\n",
    "torch.manual_seed(seed )\n",
    "np.random.seed(seed ) "
   ]
  },
  {
   "cell_type": "code",
   "execution_count": 23,
   "id": "353b84ff",
   "metadata": {},
   "outputs": [
    {
     "data": {
      "application/vnd.plotly.v1+json": {
       "config": {
        "plotlyServerURL": "https://plot.ly"
       },
       "data": [
        {
         "dimensions": [
          {
           "label": "Number of Layers",
           "values": {
            "bdata": "AQEBAQEBAQEBAQEBAQEBAQICAgICAgICAgICAgICAgIDAwMDAwMDAwMDAwMDAwMDBgYGBgYGBgYGBgYGBgYGBgEBAQEBAQEBAQEBAQEBAQECAgICAgICAgICAgICAgICAwMDAwMDAwMDAwMDAwMDAwYGBgYGBgYGBgYGBgYGBgYBAQEBAQEBAQEBAQEBAQEBAgICAgICAgICAgICAgICAgMDAwMDAwMDAwMDAwMDAwMGBgYGBgYGBgYGBgYGBgYGAQEBAQEBAQEBAQEBAQEBAQICAgICAgICAgICAgICAgIDAwMDAwMDAwMDAwMDAwMDBgYGBgYGBgYGBgYGBgYGBgEBAQEBAQEBAQEBAQEBAQE=",
            "dtype": "i1"
           }
          },
          {
           "label": "Number of Heads",
           "values": {
            "bdata": "AQEBAQEBAQEBAQEBAQEBAQEBAQEBAQEBAQEBAQEBAQEBAQEBAQEBAQEBAQEBAQEBAQEBAQEBAQEBAQEBAQEBAQMDAwMDAwMDAwMDAwMDAwMDAwMDAwMDAwMDAwMDAwMDAwMDAwMDAwMDAwMDAwMDAwMDAwMDAwMDAwMDAwMDAwMGBgYGBgYGBgYGBgYGBgYGBgYGBgYGBgYGBgYGBgYGBgYGBgYGBgYGBgYGBgYGBgYGBgYGBgYGBgYGBgYGBgYGCQkJCQkJCQkJCQkJCQkJCQkJCQkJCQkJCQkJCQkJCQkJCQkJCQkJCQkJCQkJCQkJCQkJCQkJCQkJCQkJCQkJCQwMDAwMDAwMDAwMDAwMDAw=",
            "dtype": "i1"
           }
          },
          {
           "label": "d_k",
           "values": {
            "bdata": "ICAgICAgICBAQEBAQEBAQCAgICAgICAgQEBAQEBAQEAgICAgICAgIEBAQEBAQEBAICAgICAgICBAQEBAQEBAQCAgICAgICAgQEBAQEBAQEAgICAgICAgIEBAQEBAQEBAICAgICAgICBAQEBAQEBAQCAgICAgICAgQEBAQEBAQEAgICAgICAgIEBAQEBAQEBAICAgICAgICBAQEBAQEBAQCAgICAgICAgQEBAQEBAQEAgICAgICAgIEBAQEBAQEBAICAgICAgICBAQEBAQEBAQCAgICAgICAgQEBAQEBAQEAgICAgICAgIEBAQEBAQEBAICAgICAgICBAQEBAQEBAQCAgICAgICAgQEBAQEBAQEA=",
            "dtype": "i1"
           }
          },
          {
           "label": "Feed Forward Dimension",
           "values": {
            "bdata": "AAIAAgACAAIAAwADAAMAAwACAAIAAgACAAMAAwADAAMAAgACAAIAAgADAAMAAwADAAIAAgACAAIAAwADAAMAAwACAAIAAgACAAMAAwADAAMAAgACAAIAAgADAAMAAwADAAIAAgACAAIAAwADAAMAAwACAAIAAgACAAMAAwADAAMAAgACAAIAAgADAAMAAwADAAIAAgACAAIAAwADAAMAAwACAAIAAgACAAMAAwADAAMAAgACAAIAAgADAAMAAwADAAIAAgACAAIAAwADAAMAAwACAAIAAgACAAMAAwADAAMAAgACAAIAAgADAAMAAwADAAIAAgACAAIAAwADAAMAAwACAAIAAgACAAMAAwADAAMAAgACAAIAAgADAAMAAwADAAIAAgACAAIAAwADAAMAAwACAAIAAgACAAMAAwADAAMAAgACAAIAAgADAAMAAwADAAIAAgACAAIAAwADAAMAAwACAAIAAgACAAMAAwADAAMAAgACAAIAAgADAAMAAwADAAIAAgACAAIAAwADAAMAAwACAAIAAgACAAMAAwADAAMAAgACAAIAAgADAAMAAwADAAIAAgACAAIAAwADAAMAAwACAAIAAgACAAMAAwADAAMAAgACAAIAAgADAAMAAwADAAIAAgACAAIAAwADAAMAAwACAAIAAgACAAMAAwADAAMAAgACAAIAAgADAAMAAwADAAIAAgACAAIAAwADAAMAAw==",
            "dtype": "i2"
           }
          },
          {
           "label": "Dropout",
           "values": {
            "bdata": "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",
            "dtype": "f8"
           }
          },
          {
           "label": "Eval Loss",
           "values": {
            "bdata": "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",
            "dtype": "f8"
           }
          }
         ],
         "domain": {
          "x": [
           0,
           1
          ],
          "y": [
           0,
           1
          ]
         },
         "line": {
          "color": {
           "bdata": "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",
           "dtype": "f8"
          },
          "coloraxis": "coloraxis"
         },
         "name": "",
         "type": "parcoords"
        }
       ],
       "layout": {
        "autosize": false,
        "coloraxis": {
         "cmax": 0.6944369673728943,
         "cmin": 0.1744781285524368,
         "colorbar": {
          "title": {
           "text": "Eval Loss"
          }
         },
         "colorscale": [
          [
           0,
           "#083D77"
          ],
          [
           0.5,
           "#9BC995"
          ],
          [
           0.75,
           "#FC7753"
          ],
          [
           1,
           "#9A031E"
          ]
         ]
        },
        "font": {
         "color": "black",
         "family": "Arial",
         "size": 23
        },
        "height": 600,
        "legend": {
         "tracegroupgap": 0
        },
        "margin": {
         "b": 60,
         "l": 80,
         "r": 60,
         "t": 60
        },
        "plot_bgcolor": "white",
        "template": {
         "data": {
          "bar": [
           {
            "error_x": {
             "color": "#2a3f5f"
            },
            "error_y": {
             "color": "#2a3f5f"
            },
            "marker": {
             "line": {
              "color": "#E5ECF6",
              "width": 0.5
             },
             "pattern": {
              "fillmode": "overlay",
              "size": 10,
              "solidity": 0.2
             }
            },
            "type": "bar"
           }
          ],
          "barpolar": [
           {
            "marker": {
             "line": {
              "color": "#E5ECF6",
              "width": 0.5
             },
             "pattern": {
              "fillmode": "overlay",
              "size": 10,
              "solidity": 0.2
             }
            },
            "type": "barpolar"
           }
          ],
          "carpet": [
           {
            "aaxis": {
             "endlinecolor": "#2a3f5f",
             "gridcolor": "white",
             "linecolor": "white",
             "minorgridcolor": "white",
             "startlinecolor": "#2a3f5f"
            },
            "baxis": {
             "endlinecolor": "#2a3f5f",
             "gridcolor": "white",
             "linecolor": "white",
             "minorgridcolor": "white",
             "startlinecolor": "#2a3f5f"
            },
            "type": "carpet"
           }
          ],
          "choropleth": [
           {
            "colorbar": {
             "outlinewidth": 0,
             "ticks": ""
            },
            "type": "choropleth"
           }
          ],
          "contour": [
           {
            "colorbar": {
             "outlinewidth": 0,
             "ticks": ""
            },
            "colorscale": [
             [
              0,
              "#0d0887"
             ],
             [
              0.1111111111111111,
              "#46039f"
             ],
             [
              0.2222222222222222,
              "#7201a8"
             ],
             [
              0.3333333333333333,
              "#9c179e"
             ],
             [
              0.4444444444444444,
              "#bd3786"
             ],
             [
              0.5555555555555556,
              "#d8576b"
             ],
             [
              0.6666666666666666,
              "#ed7953"
             ],
             [
              0.7777777777777778,
              "#fb9f3a"
             ],
             [
              0.8888888888888888,
              "#fdca26"
             ],
             [
              1,
              "#f0f921"
             ]
            ],
            "type": "contour"
           }
          ],
          "contourcarpet": [
           {
            "colorbar": {
             "outlinewidth": 0,
             "ticks": ""
            },
            "type": "contourcarpet"
           }
          ],
          "heatmap": [
           {
            "colorbar": {
             "outlinewidth": 0,
             "ticks": ""
            },
            "colorscale": [
             [
              0,
              "#0d0887"
             ],
             [
              0.1111111111111111,
              "#46039f"
             ],
             [
              0.2222222222222222,
              "#7201a8"
             ],
             [
              0.3333333333333333,
              "#9c179e"
             ],
             [
              0.4444444444444444,
              "#bd3786"
             ],
             [
              0.5555555555555556,
              "#d8576b"
             ],
             [
              0.6666666666666666,
              "#ed7953"
             ],
             [
              0.7777777777777778,
              "#fb9f3a"
             ],
             [
              0.8888888888888888,
              "#fdca26"
             ],
             [
              1,
              "#f0f921"
             ]
            ],
            "type": "heatmap"
           }
          ],
          "histogram": [
           {
            "marker": {
             "pattern": {
              "fillmode": "overlay",
              "size": 10,
              "solidity": 0.2
             }
            },
            "type": "histogram"
           }
          ],
          "histogram2d": [
           {
            "colorbar": {
             "outlinewidth": 0,
             "ticks": ""
            },
            "colorscale": [
             [
              0,
              "#0d0887"
             ],
             [
              0.1111111111111111,
              "#46039f"
             ],
             [
              0.2222222222222222,
              "#7201a8"
             ],
             [
              0.3333333333333333,
              "#9c179e"
             ],
             [
              0.4444444444444444,
              "#bd3786"
             ],
             [
              0.5555555555555556,
              "#d8576b"
             ],
             [
              0.6666666666666666,
              "#ed7953"
             ],
             [
              0.7777777777777778,
              "#fb9f3a"
             ],
             [
              0.8888888888888888,
              "#fdca26"
             ],
             [
              1,
              "#f0f921"
             ]
            ],
            "type": "histogram2d"
           }
          ],
          "histogram2dcontour": [
           {
            "colorbar": {
             "outlinewidth": 0,
             "ticks": ""
            },
            "colorscale": [
             [
              0,
              "#0d0887"
             ],
             [
              0.1111111111111111,
              "#46039f"
             ],
             [
              0.2222222222222222,
              "#7201a8"
             ],
             [
              0.3333333333333333,
              "#9c179e"
             ],
             [
              0.4444444444444444,
              "#bd3786"
             ],
             [
              0.5555555555555556,
              "#d8576b"
             ],
             [
              0.6666666666666666,
              "#ed7953"
             ],
             [
              0.7777777777777778,
              "#fb9f3a"
             ],
             [
              0.8888888888888888,
              "#fdca26"
             ],
             [
              1,
              "#f0f921"
             ]
            ],
            "type": "histogram2dcontour"
           }
          ],
          "mesh3d": [
           {
            "colorbar": {
             "outlinewidth": 0,
             "ticks": ""
            },
            "type": "mesh3d"
           }
          ],
          "parcoords": [
           {
            "line": {
             "colorbar": {
              "outlinewidth": 0,
              "ticks": ""
             }
            },
            "type": "parcoords"
           }
          ],
          "pie": [
           {
            "automargin": true,
            "type": "pie"
           }
          ],
          "scatter": [
           {
            "fillpattern": {
             "fillmode": "overlay",
             "size": 10,
             "solidity": 0.2
            },
            "type": "scatter"
           }
          ],
          "scatter3d": [
           {
            "line": {
             "colorbar": {
              "outlinewidth": 0,
              "ticks": ""
             }
            },
            "marker": {
             "colorbar": {
              "outlinewidth": 0,
              "ticks": ""
             }
            },
            "type": "scatter3d"
           }
          ],
          "scattercarpet": [
           {
            "marker": {
             "colorbar": {
              "outlinewidth": 0,
              "ticks": ""
             }
            },
            "type": "scattercarpet"
           }
          ],
          "scattergeo": [
           {
            "marker": {
             "colorbar": {
              "outlinewidth": 0,
              "ticks": ""
             }
            },
            "type": "scattergeo"
           }
          ],
          "scattergl": [
           {
            "marker": {
             "colorbar": {
              "outlinewidth": 0,
              "ticks": ""
             }
            },
            "type": "scattergl"
           }
          ],
          "scattermap": [
           {
            "marker": {
             "colorbar": {
              "outlinewidth": 0,
              "ticks": ""
             }
            },
            "type": "scattermap"
           }
          ],
          "scattermapbox": [
           {
            "marker": {
             "colorbar": {
              "outlinewidth": 0,
              "ticks": ""
             }
            },
            "type": "scattermapbox"
           }
          ],
          "scatterpolar": [
           {
            "marker": {
             "colorbar": {
              "outlinewidth": 0,
              "ticks": ""
             }
            },
            "type": "scatterpolar"
           }
          ],
          "scatterpolargl": [
           {
            "marker": {
             "colorbar": {
              "outlinewidth": 0,
              "ticks": ""
             }
            },
            "type": "scatterpolargl"
           }
          ],
          "scatterternary": [
           {
            "marker": {
             "colorbar": {
              "outlinewidth": 0,
              "ticks": ""
             }
            },
            "type": "scatterternary"
           }
          ],
          "surface": [
           {
            "colorbar": {
             "outlinewidth": 0,
             "ticks": ""
            },
            "colorscale": [
             [
              0,
              "#0d0887"
             ],
             [
              0.1111111111111111,
              "#46039f"
             ],
             [
              0.2222222222222222,
              "#7201a8"
             ],
             [
              0.3333333333333333,
              "#9c179e"
             ],
             [
              0.4444444444444444,
              "#bd3786"
             ],
             [
              0.5555555555555556,
              "#d8576b"
             ],
             [
              0.6666666666666666,
              "#ed7953"
             ],
             [
              0.7777777777777778,
              "#fb9f3a"
             ],
             [
              0.8888888888888888,
              "#fdca26"
             ],
             [
              1,
              "#f0f921"
             ]
            ],
            "type": "surface"
           }
          ],
          "table": [
           {
            "cells": {
             "fill": {
              "color": "#EBF0F8"
             },
             "line": {
              "color": "white"
             }
            },
            "header": {
             "fill": {
              "color": "#C8D4E3"
             },
             "line": {
              "color": "white"
             }
            },
            "type": "table"
           }
          ]
         },
         "layout": {
          "annotationdefaults": {
           "arrowcolor": "#2a3f5f",
           "arrowhead": 0,
           "arrowwidth": 1
          },
          "autotypenumbers": "strict",
          "coloraxis": {
           "colorbar": {
            "outlinewidth": 0,
            "ticks": ""
           }
          },
          "colorscale": {
           "diverging": [
            [
             0,
             "#8e0152"
            ],
            [
             0.1,
             "#c51b7d"
            ],
            [
             0.2,
             "#de77ae"
            ],
            [
             0.3,
             "#f1b6da"
            ],
            [
             0.4,
             "#fde0ef"
            ],
            [
             0.5,
             "#f7f7f7"
            ],
            [
             0.6,
             "#e6f5d0"
            ],
            [
             0.7,
             "#b8e186"
            ],
            [
             0.8,
             "#7fbc41"
            ],
            [
             0.9,
             "#4d9221"
            ],
            [
             1,
             "#276419"
            ]
           ],
           "sequential": [
            [
             0,
             "#0d0887"
            ],
            [
             0.1111111111111111,
             "#46039f"
            ],
            [
             0.2222222222222222,
             "#7201a8"
            ],
            [
             0.3333333333333333,
             "#9c179e"
            ],
            [
             0.4444444444444444,
             "#bd3786"
            ],
            [
             0.5555555555555556,
             "#d8576b"
            ],
            [
             0.6666666666666666,
             "#ed7953"
            ],
            [
             0.7777777777777778,
             "#fb9f3a"
            ],
            [
             0.8888888888888888,
             "#fdca26"
            ],
            [
             1,
             "#f0f921"
            ]
           ],
           "sequentialminus": [
            [
             0,
             "#0d0887"
            ],
            [
             0.1111111111111111,
             "#46039f"
            ],
            [
             0.2222222222222222,
             "#7201a8"
            ],
            [
             0.3333333333333333,
             "#9c179e"
            ],
            [
             0.4444444444444444,
             "#bd3786"
            ],
            [
             0.5555555555555556,
             "#d8576b"
            ],
            [
             0.6666666666666666,
             "#ed7953"
            ],
            [
             0.7777777777777778,
             "#fb9f3a"
            ],
            [
             0.8888888888888888,
             "#fdca26"
            ],
            [
             1,
             "#f0f921"
            ]
           ]
          },
          "colorway": [
           "#636efa",
           "#EF553B",
           "#00cc96",
           "#ab63fa",
           "#FFA15A",
           "#19d3f3",
           "#FF6692",
           "#B6E880",
           "#FF97FF",
           "#FECB52"
          ],
          "font": {
           "color": "#2a3f5f"
          },
          "geo": {
           "bgcolor": "white",
           "lakecolor": "white",
           "landcolor": "#E5ECF6",
           "showlakes": true,
           "showland": true,
           "subunitcolor": "white"
          },
          "hoverlabel": {
           "align": "left"
          },
          "hovermode": "closest",
          "mapbox": {
           "style": "light"
          },
          "paper_bgcolor": "white",
          "plot_bgcolor": "#E5ECF6",
          "polar": {
           "angularaxis": {
            "gridcolor": "white",
            "linecolor": "white",
            "ticks": ""
           },
           "bgcolor": "#E5ECF6",
           "radialaxis": {
            "gridcolor": "white",
            "linecolor": "white",
            "ticks": ""
           }
          },
          "scene": {
           "xaxis": {
            "backgroundcolor": "#E5ECF6",
            "gridcolor": "white",
            "gridwidth": 2,
            "linecolor": "white",
            "showbackground": true,
            "ticks": "",
            "zerolinecolor": "white"
           },
           "yaxis": {
            "backgroundcolor": "#E5ECF6",
            "gridcolor": "white",
            "gridwidth": 2,
            "linecolor": "white",
            "showbackground": true,
            "ticks": "",
            "zerolinecolor": "white"
           },
           "zaxis": {
            "backgroundcolor": "#E5ECF6",
            "gridcolor": "white",
            "gridwidth": 2,
            "linecolor": "white",
            "showbackground": true,
            "ticks": "",
            "zerolinecolor": "white"
           }
          },
          "shapedefaults": {
           "line": {
            "color": "#2a3f5f"
           }
          },
          "ternary": {
           "aaxis": {
            "gridcolor": "white",
            "linecolor": "white",
            "ticks": ""
           },
           "baxis": {
            "gridcolor": "white",
            "linecolor": "white",
            "ticks": ""
           },
           "bgcolor": "#E5ECF6",
           "caxis": {
            "gridcolor": "white",
            "linecolor": "white",
            "ticks": ""
           }
          },
          "title": {
           "x": 0.05
          },
          "xaxis": {
           "automargin": true,
           "gridcolor": "white",
           "linecolor": "white",
           "ticks": "",
           "title": {
            "standoff": 15
           },
           "zerolinecolor": "white",
           "zerolinewidth": 2
          },
          "yaxis": {
           "automargin": true,
           "gridcolor": "white",
           "linecolor": "white",
           "ticks": "",
           "title": {
            "standoff": 15
           },
           "zerolinecolor": "white",
           "zerolinewidth": 2
          }
         }
        },
        "width": 1400
       }
      }
     },
     "metadata": {},
     "output_type": "display_data"
    }
   ],
   "source": [
    "import pandas as pd\n",
    "import plotly.express as px\n",
    "import os\n",
    "import re\n",
    "\n",
    "# First plot: losses from multiple CSVs\n",
    "losses_folder = 'losses'\n",
    "filename_pattern = r'losses_n(\\d+)_l(\\d+)_dk(\\d+)_dff(\\d+)_do([\\d\\.]+)_multiFold.csv'\n",
    "\n",
    "all_losses_data = []\n",
    "for filename in os.listdir(losses_folder):\n",
    "    if filename.endswith(\".csv\"):\n",
    "        match = re.search(filename_pattern, filename)\n",
    "        if not match:\n",
    "            continue\n",
    "        n_heads = int(match.group(1))\n",
    "        n_layers = int(match.group(2))\n",
    "        d_k = int(match.group(3))\n",
    "        dff = int(match.group(4))\n",
    "        dropout = float(match.group(5))\n",
    "\n",
    "        df_file = pd.read_csv(os.path.join(losses_folder, filename))\n",
    "        df_file['n_heads'] = n_heads\n",
    "        df_file['n_layers'] = n_layers\n",
    "        df_file['d_k'] = d_k\n",
    "        df_file['dff'] = dff\n",
    "        df_file['dropout'] = dropout\n",
    "        all_losses_data.append(df_file)\n",
    "\n",
    "df_combined = pd.concat(all_losses_data, ignore_index=True)\n",
    "\n",
    "# Select the best validation loss for each hyperparameter combination\n",
    "df_plot = df_combined.loc[\n",
    "    df_combined.groupby(['n_heads', 'n_layers', 'd_k', 'dff', 'dropout'])['val_loss'].idxmin()\n",
    "].reset_index(drop=True)\n",
    "df_plot = df_plot.rename(columns={'val_loss': 'Eval Loss'})\n",
    "\n",
    "# Rename columns for display\n",
    "df_plot = df_plot.rename(columns={\n",
    "    \"n_heads\": \"Number of Heads\",\n",
    "    \"n_layers\": \"Number of Layers\",\n",
    "    \"d_k\": \"d_k\",\n",
    "    \"dff\": \"Feed Forward Dimension\",\n",
    "    \"dropout\": \"Dropout\"\n",
    "})\n",
    "\n",
    "custom_colors = [\n",
    "    [0.0, \"#083D77\"],\n",
    "    [0.5, \"#9BC995\"],\n",
    "    [0.75, \"#FC7753\"],\n",
    "    [1.0, \"#9A031E\"]\n",
    "]\n",
    "\n",
    "fig1 = px.parallel_coordinates(\n",
    "    df_plot,\n",
    "    color=\"Eval Loss\",\n",
    "    dimensions=[\n",
    "        \"Number of Layers\",\n",
    "        \"Number of Heads\",\n",
    "        \"d_k\",\n",
    "        \"Feed Forward Dimension\",\n",
    "        \"Dropout\",\n",
    "        \"Eval Loss\"\n",
    "    ],\n",
    "    color_continuous_scale=custom_colors,\n",
    "    range_color=[df_plot[\"Eval Loss\"].min(), df_plot[\"Eval Loss\"].max()]\n",
    ")\n",
    "\n",
    "# Force same layout/font\n",
    "fig1.update_layout(\n",
    "    autosize=False,\n",
    "    width=1400,\n",
    "     height=600,\n",
    "    margin=dict(l=80, r=60, t=60, b=60),\n",
    "    plot_bgcolor=\"white\",\n",
    "    font=dict(family=\"Arial\", size=23, color=\"black\")\n",
    ")\n",
    "\n",
    "fig1.show()"
   ]
  },
  {
   "cell_type": "code",
   "execution_count": 24,
   "id": "f65b0f78",
   "metadata": {},
   "outputs": [
    {
     "data": {
      "application/vnd.plotly.v1+json": {
       "config": {
        "plotlyServerURL": "https://plot.ly"
       },
       "data": [
        {
         "dimensions": [
          {
           "label": "Number of Heads",
           "values": {
            "bdata": "AQEBAQEBAQEBAQEBAQEBAQEBAQEBAQEBAQEBAQEBAQEBAQEBAQEBAQEBAQEBAQEBAQEBAQEBAQEBAQEBAQEBAQMDAwMDAwMDAwMDAwMDAwMDAwMDAwMDAwMDAwMDAwMDAwMDAwMDAwMDAwMDAwMDAwMDAwMDAwMDAwMDAwMDAwMGBgYGBgYGBgYGBgYGBgYGBgYGBgYGBgYGBgYGBgYGBgYGBgYGBgYGBgYGBgYGBgYGBgYGBgYGBgYGBgYGBgYGCQkJCQkJCQkJCQkJCQkJCQkJCQkJCQkJCQkJCQkJCQkJCQkJCQkJCQkJCQkJCQkJCQkJCQkJCQkJCQkJCQkJCQwMDAwMDAwMDAwMDAwMDAw=",
            "dtype": "i1"
           }
          },
          {
           "label": "Number of Layers",
           "values": {
            "bdata": "AQEBAQEBAQEBAQEBAQEBAQICAgICAgICAgICAgICAgIDAwMDAwMDAwMDAwMDAwMDBgYGBgYGBgYGBgYGBgYGBgEBAQEBAQEBAQEBAQEBAQECAgICAgICAgICAgICAgICAwMDAwMDAwMDAwMDAwMDAwYGBgYGBgYGBgYGBgYGBgYBAQEBAQEBAQEBAQEBAQEBAgICAgICAgICAgICAgICAgMDAwMDAwMDAwMDAwMDAwMGBgYGBgYGBgYGBgYGBgYGAQEBAQEBAQEBAQEBAQEBAQICAgICAgICAgICAgICAgIDAwMDAwMDAwMDAwMDAwMDBgYGBgYGBgYGBgYGBgYGBgEBAQEBAQEBAQEBAQEBAQE=",
            "dtype": "i1"
           }
          },
          {
           "label": "d_k",
           "values": {
            "bdata": "ICAgICAgICBAQEBAQEBAQCAgICAgICAgQEBAQEBAQEAgICAgICAgIEBAQEBAQEBAICAgICAgICBAQEBAQEBAQCAgICAgICAgQEBAQEBAQEAgICAgICAgIEBAQEBAQEBAICAgICAgICBAQEBAQEBAQCAgICAgICAgQEBAQEBAQEAgICAgICAgIEBAQEBAQEBAICAgICAgICBAQEBAQEBAQCAgICAgICAgQEBAQEBAQEAgICAgICAgIEBAQEBAQEBAICAgICAgICBAQEBAQEBAQCAgICAgICAgQEBAQEBAQEAgICAgICAgIEBAQEBAQEBAICAgICAgICBAQEBAQEBAQCAgICAgICAgQEBAQEBAQEA=",
            "dtype": "i1"
           }
          },
          {
           "label": "Feed Forward Layer",
           "values": {
            "bdata": "AAIAAgACAAIAAwADAAMAAwACAAIAAgACAAMAAwADAAMAAgACAAIAAgADAAMAAwADAAIAAgACAAIAAwADAAMAAwACAAIAAgACAAMAAwADAAMAAgACAAIAAgADAAMAAwADAAIAAgACAAIAAwADAAMAAwACAAIAAgACAAMAAwADAAMAAgACAAIAAgADAAMAAwADAAIAAgACAAIAAwADAAMAAwACAAIAAgACAAMAAwADAAMAAgACAAIAAgADAAMAAwADAAIAAgACAAIAAwADAAMAAwACAAIAAgACAAMAAwADAAMAAgACAAIAAgADAAMAAwADAAIAAgACAAIAAwADAAMAAwACAAIAAgACAAMAAwADAAMAAgACAAIAAgADAAMAAwADAAIAAgACAAIAAwADAAMAAwACAAIAAgACAAMAAwADAAMAAgACAAIAAgADAAMAAwADAAIAAgACAAIAAwADAAMAAwACAAIAAgACAAMAAwADAAMAAgACAAIAAgADAAMAAwADAAIAAgACAAIAAwADAAMAAwACAAIAAgACAAMAAwADAAMAAgACAAIAAgADAAMAAwADAAIAAgACAAIAAwADAAMAAwACAAIAAgACAAMAAwADAAMAAgACAAIAAgADAAMAAwADAAIAAgACAAIAAwADAAMAAwACAAIAAgACAAMAAwADAAMAAgACAAIAAgADAAMAAwADAAIAAgACAAIAAwADAAMAAw==",
            "dtype": "i2"
           }
          },
          {
           "label": "Dropout",
           "values": {
            "bdata": "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",
            "dtype": "f8"
           }
          },
          {
           "label": "Best Eval Loss",
           "values": {
            "bdata": "/////2qJxz/+//+f7ODHP/3//99Zlsk/////PyhayD/+////eBbJPwAAAKBdRsg/////343Axz8AAABACoXIP/3//x/ik8o/////X8pIyD////8/OCnIP/3//x92EMo//f///yR5yT/+//8/RpnHPwAAACDDosg/AAAA4PFLyD////+/H0rIP/3//59H6Mc/AAAA4LY9yD/+//8/F+XHPwAAACA7WMg//f///yBJxz////9fwJ/HPwAAAOAuicg/AAAAgC4gxz////9/D+TGP/7//3/2iMc/AAAAoOk+yD8AAADA68HHPwAAAIDXVMg/////fw8RyD/9//9fAPrHPwAAAKCgC8g//v//n/DJxj8AAACAcQLHP/3//98QG8k//f//n0XdyD8AAABABsbHPwAAACBRVcc/AAAAQAg5yD////+fzCbHP////78dJcc//v//Hw0LyD/+//+f/lbIP/3//3+KaMg/////X7pRyD////+fWB3IP/7//58tKMk/AAAAALHxxj8AAAAgRXbIP/3//7/R2M4/AAAAAAZbyT8AAACgroDHPwAAAKDxBNI/////PzpTzj////9fvnDNPwAAAIAqNMg/////f8jr0z/+//9/J3bKP////z93QdU//v//f3InyD////9fcqnUP////x9cedI/AAAAAMXh1D/+//+f8qLHPwAAAGCSask/AAAA4Cyuxz8AAACA0RLIP/3//5/DQ8c/AAAAgBhWxz/9//8fJxTIP/3//z8zFcg/AAAAgONpxz/9////Yc/GP////9+JF8g/AAAAQH6dxz8AAACAkNPGPwAAAOA4AMg//v//PyXxxz/9//+fCnvIPwAAAOD3asc/////n4uZxz/+//9/4JrHP/7//38jGck/AAAAYKbWxj////+fzL/HP/////+ZWcc/AAAAgPHKxz8AAADAZ6fHP//////0Hcc/AAAA4P1Pxz////8f6QTHP////9/Oxsc/AAAAgCRDyD8AAABASWHHP/7//3/gYMk///////R8yD8AAAAAQxnIPwAAACBP4cc//v//vzf2yD/9//+/y7DGP////586isg/////n0xVxj/9//9fAEPJPwAAAKDpkcc/////f49jxz8AAADgeRfJPwAAAEBPIsk/AAAAQD8Bxz/+//9/tQHIP////99QUsg//v//P5WsyT/+//9f7kDIPwAAAEBSwNM/AAAA4HoF1T8AAAAgub3UPwAAAGCU79M/AAAAwGHm0z////8/ZwjUPwAAAOC+LeY//v//33J/yj//////UsPTP////9/UoNQ/AAAAAA7T1D8AAACguCLTP////7+Ti9Q/////nxA41T8AAADgqpXVP/7//39gUcc//v//v8c2yD/+//9fYkjHP/3//1/y9cc//////xlJxz/////fah7IP/7//98Ap8c/////34kTyD8AAACgMMvHPwAAAAA3c8c//f//P+zsxz/////f5GPIPwAAAICUwMc//f//Hy/Hxj8AAACgMlfHP/3//5/F4sg/AAAAILnKxj/+//+/tV3HP/7//z8n38c//v//n2Kyxz/9//+fTwXIPwAAAIAmXcg/AAAAoB6/xz/9//9fdjnJP/7//3+19sY//v//Pwcqxz/9//+/UfzHP////z/EGMk/////XzLExz8AAAAAvaXIPwAAAIBpJcc//f//P3owyD8AAADgLtXHPwAAAICaFsc//v//309VyD/+//+/pbPJP////9/S3sY//v//X06Mxz/+////Q3rHPwAAAEAeAMk/////H3mvxj/////fZHPHP/7//38ndck//v//n2YMyT/+//9/chHHPwAAAADFEsg/////n1REyT/+//8/ox3JP////5+T5s4/AAAAwOCJ0z8AAAAAPxzVPwAAAKDILeY/////P2+d0j8AAAAAfC3mPwAAAIBQhtQ/AAAAgF8w5j////9/s63bPwAAAKBEL+Y/AAAAwLMX1T8AAABAYjPmP////19qSt0/AAAAoAEv5j8AAADg6i3mPwAAAACxLeY/////P8Jmxz////9/BabHP/7//z8JRMg/////35+Cxz/+///fucfHP////58PQ8c//v//P0qVyD////9/CxPHPwAAAAA5ncc//f//f3z/xz8AAAAAAuXHP/7///9JCMk//v///w4OyD/+//+/Q7fIP/3//58Edsc/////n31fyD/+//+frd3HP////1+sfcc//f//3xb6xj////9ftEXJP////x/v68Y/////f3mVxz8AAABAxeXHP////5+XsMc//////9h5xz8AAAAAfB7IP////5/Ed8g//v//X3BPyT////+fAfbGPwAAACDFg8c/AAAA4HHoxz/9//9/jELJP////9/qGMc//v///zcQxz/+//8/B4/IP/7//x+Ptcg/AAAAgBalxz/+///fTVfHP/7//3/uucc/AAAAoO9tyj/+//+fbrfHPwAAAECgzsc/AAAAoKJayT/+//9fXPXOP/7//78158Y/AAAAYBDTxj/+//+feufIP////1/MS8w/AAAAgCtB1j8AAADg/ZDSP////59GydM/AAAA4NM45j////8/bbXUPwAAAOB9Pds/AAAAgHMt5j8AAAAgcy3mPwAAAOAIbdk/AAAAwGMy5j8AAADAvzHmPwAAAEDrL+Y/AAAAYCLr4D8AAACAdi3mPwAAAECOLeY/AAAAAHYt5j/9///fUybJP/7//x8B2sg/////f9LayD////9fQi7JP/3//18x1Mk/AAAA4D7KyD8AAADgdbrIP/////8fPso//f//H+QFyT8AAADA47rJP/3//7+Ujsk/////v41lyT////8/eVHKP////3+B5cg/////X/PCyD8AAADg/9DJPw==",
            "dtype": "f8"
           }
          }
         ],
         "domain": {
          "x": [
           0,
           1
          ],
          "y": [
           0,
           1
          ]
         },
         "line": {
          "color": {
           "bdata": "AAAAAAAAAAAAAAAAAAAAAAAAAAAAAAAAAAAAAAAAAAAAAAAAAAAAAAAAAAAAAAAAAAAAAAAAAAAAAAAAAAAAAAAAAAAAAAAAAAAAAAAAAAAAAAAAAAAAAAAAAAAAAAAAAAAAAAAAAQAAAAAAAAAAAAAAAAAAAAAAAAAAAAAAAAAAAAAAAAAAAAAAAAAAAAAAAAAAAAAAAAAAAAAAAAAAAAAAAAAAAAAAAAAAAAAAAAAAAAAAAAAAAAAAAAAAAAAAAAAAAAAAAAAAAAAAAAAAAAAAAAAAAAAAAAAAAAAAAAAAAAAAAAAAAAAAAAAAAAAAAAAAAAAAAAAAAAAAAAAAAAAAAAAAAAAAAAAAAAAAAAA=",
           "dtype": "i1"
          },
          "coloraxis": "coloraxis"
         },
         "name": "",
         "type": "parcoords"
        }
       ],
       "layout": {
        "autosize": false,
        "coloraxis": {
         "cmax": 1,
         "cmin": 0,
         "colorbar": {
          "title": {
           "text": "BestFlag"
          }
         },
         "colorscale": [
          [
           0,
           "lightgray"
          ],
          [
           1,
           "#9A031E"
          ]
         ],
         "showscale": false
        },
        "font": {
         "color": "black",
         "family": "Arial",
         "size": 23
        },
        "height": 600,
        "legend": {
         "tracegroupgap": 0
        },
        "margin": {
         "b": 60,
         "l": 80,
         "r": 60,
         "t": 60
        },
        "plot_bgcolor": "white",
        "template": {
         "data": {
          "bar": [
           {
            "error_x": {
             "color": "#2a3f5f"
            },
            "error_y": {
             "color": "#2a3f5f"
            },
            "marker": {
             "line": {
              "color": "#E5ECF6",
              "width": 0.5
             },
             "pattern": {
              "fillmode": "overlay",
              "size": 10,
              "solidity": 0.2
             }
            },
            "type": "bar"
           }
          ],
          "barpolar": [
           {
            "marker": {
             "line": {
              "color": "#E5ECF6",
              "width": 0.5
             },
             "pattern": {
              "fillmode": "overlay",
              "size": 10,
              "solidity": 0.2
             }
            },
            "type": "barpolar"
           }
          ],
          "carpet": [
           {
            "aaxis": {
             "endlinecolor": "#2a3f5f",
             "gridcolor": "white",
             "linecolor": "white",
             "minorgridcolor": "white",
             "startlinecolor": "#2a3f5f"
            },
            "baxis": {
             "endlinecolor": "#2a3f5f",
             "gridcolor": "white",
             "linecolor": "white",
             "minorgridcolor": "white",
             "startlinecolor": "#2a3f5f"
            },
            "type": "carpet"
           }
          ],
          "choropleth": [
           {
            "colorbar": {
             "outlinewidth": 0,
             "ticks": ""
            },
            "type": "choropleth"
           }
          ],
          "contour": [
           {
            "colorbar": {
             "outlinewidth": 0,
             "ticks": ""
            },
            "colorscale": [
             [
              0,
              "#0d0887"
             ],
             [
              0.1111111111111111,
              "#46039f"
             ],
             [
              0.2222222222222222,
              "#7201a8"
             ],
             [
              0.3333333333333333,
              "#9c179e"
             ],
             [
              0.4444444444444444,
              "#bd3786"
             ],
             [
              0.5555555555555556,
              "#d8576b"
             ],
             [
              0.6666666666666666,
              "#ed7953"
             ],
             [
              0.7777777777777778,
              "#fb9f3a"
             ],
             [
              0.8888888888888888,
              "#fdca26"
             ],
             [
              1,
              "#f0f921"
             ]
            ],
            "type": "contour"
           }
          ],
          "contourcarpet": [
           {
            "colorbar": {
             "outlinewidth": 0,
             "ticks": ""
            },
            "type": "contourcarpet"
           }
          ],
          "heatmap": [
           {
            "colorbar": {
             "outlinewidth": 0,
             "ticks": ""
            },
            "colorscale": [
             [
              0,
              "#0d0887"
             ],
             [
              0.1111111111111111,
              "#46039f"
             ],
             [
              0.2222222222222222,
              "#7201a8"
             ],
             [
              0.3333333333333333,
              "#9c179e"
             ],
             [
              0.4444444444444444,
              "#bd3786"
             ],
             [
              0.5555555555555556,
              "#d8576b"
             ],
             [
              0.6666666666666666,
              "#ed7953"
             ],
             [
              0.7777777777777778,
              "#fb9f3a"
             ],
             [
              0.8888888888888888,
              "#fdca26"
             ],
             [
              1,
              "#f0f921"
             ]
            ],
            "type": "heatmap"
           }
          ],
          "histogram": [
           {
            "marker": {
             "pattern": {
              "fillmode": "overlay",
              "size": 10,
              "solidity": 0.2
             }
            },
            "type": "histogram"
           }
          ],
          "histogram2d": [
           {
            "colorbar": {
             "outlinewidth": 0,
             "ticks": ""
            },
            "colorscale": [
             [
              0,
              "#0d0887"
             ],
             [
              0.1111111111111111,
              "#46039f"
             ],
             [
              0.2222222222222222,
              "#7201a8"
             ],
             [
              0.3333333333333333,
              "#9c179e"
             ],
             [
              0.4444444444444444,
              "#bd3786"
             ],
             [
              0.5555555555555556,
              "#d8576b"
             ],
             [
              0.6666666666666666,
              "#ed7953"
             ],
             [
              0.7777777777777778,
              "#fb9f3a"
             ],
             [
              0.8888888888888888,
              "#fdca26"
             ],
             [
              1,
              "#f0f921"
             ]
            ],
            "type": "histogram2d"
           }
          ],
          "histogram2dcontour": [
           {
            "colorbar": {
             "outlinewidth": 0,
             "ticks": ""
            },
            "colorscale": [
             [
              0,
              "#0d0887"
             ],
             [
              0.1111111111111111,
              "#46039f"
             ],
             [
              0.2222222222222222,
              "#7201a8"
             ],
             [
              0.3333333333333333,
              "#9c179e"
             ],
             [
              0.4444444444444444,
              "#bd3786"
             ],
             [
              0.5555555555555556,
              "#d8576b"
             ],
             [
              0.6666666666666666,
              "#ed7953"
             ],
             [
              0.7777777777777778,
              "#fb9f3a"
             ],
             [
              0.8888888888888888,
              "#fdca26"
             ],
             [
              1,
              "#f0f921"
             ]
            ],
            "type": "histogram2dcontour"
           }
          ],
          "mesh3d": [
           {
            "colorbar": {
             "outlinewidth": 0,
             "ticks": ""
            },
            "type": "mesh3d"
           }
          ],
          "parcoords": [
           {
            "line": {
             "colorbar": {
              "outlinewidth": 0,
              "ticks": ""
             }
            },
            "type": "parcoords"
           }
          ],
          "pie": [
           {
            "automargin": true,
            "type": "pie"
           }
          ],
          "scatter": [
           {
            "fillpattern": {
             "fillmode": "overlay",
             "size": 10,
             "solidity": 0.2
            },
            "type": "scatter"
           }
          ],
          "scatter3d": [
           {
            "line": {
             "colorbar": {
              "outlinewidth": 0,
              "ticks": ""
             }
            },
            "marker": {
             "colorbar": {
              "outlinewidth": 0,
              "ticks": ""
             }
            },
            "type": "scatter3d"
           }
          ],
          "scattercarpet": [
           {
            "marker": {
             "colorbar": {
              "outlinewidth": 0,
              "ticks": ""
             }
            },
            "type": "scattercarpet"
           }
          ],
          "scattergeo": [
           {
            "marker": {
             "colorbar": {
              "outlinewidth": 0,
              "ticks": ""
             }
            },
            "type": "scattergeo"
           }
          ],
          "scattergl": [
           {
            "marker": {
             "colorbar": {
              "outlinewidth": 0,
              "ticks": ""
             }
            },
            "type": "scattergl"
           }
          ],
          "scattermap": [
           {
            "marker": {
             "colorbar": {
              "outlinewidth": 0,
              "ticks": ""
             }
            },
            "type": "scattermap"
           }
          ],
          "scattermapbox": [
           {
            "marker": {
             "colorbar": {
              "outlinewidth": 0,
              "ticks": ""
             }
            },
            "type": "scattermapbox"
           }
          ],
          "scatterpolar": [
           {
            "marker": {
             "colorbar": {
              "outlinewidth": 0,
              "ticks": ""
             }
            },
            "type": "scatterpolar"
           }
          ],
          "scatterpolargl": [
           {
            "marker": {
             "colorbar": {
              "outlinewidth": 0,
              "ticks": ""
             }
            },
            "type": "scatterpolargl"
           }
          ],
          "scatterternary": [
           {
            "marker": {
             "colorbar": {
              "outlinewidth": 0,
              "ticks": ""
             }
            },
            "type": "scatterternary"
           }
          ],
          "surface": [
           {
            "colorbar": {
             "outlinewidth": 0,
             "ticks": ""
            },
            "colorscale": [
             [
              0,
              "#0d0887"
             ],
             [
              0.1111111111111111,
              "#46039f"
             ],
             [
              0.2222222222222222,
              "#7201a8"
             ],
             [
              0.3333333333333333,
              "#9c179e"
             ],
             [
              0.4444444444444444,
              "#bd3786"
             ],
             [
              0.5555555555555556,
              "#d8576b"
             ],
             [
              0.6666666666666666,
              "#ed7953"
             ],
             [
              0.7777777777777778,
              "#fb9f3a"
             ],
             [
              0.8888888888888888,
              "#fdca26"
             ],
             [
              1,
              "#f0f921"
             ]
            ],
            "type": "surface"
           }
          ],
          "table": [
           {
            "cells": {
             "fill": {
              "color": "#EBF0F8"
             },
             "line": {
              "color": "white"
             }
            },
            "header": {
             "fill": {
              "color": "#C8D4E3"
             },
             "line": {
              "color": "white"
             }
            },
            "type": "table"
           }
          ]
         },
         "layout": {
          "annotationdefaults": {
           "arrowcolor": "#2a3f5f",
           "arrowhead": 0,
           "arrowwidth": 1
          },
          "autotypenumbers": "strict",
          "coloraxis": {
           "colorbar": {
            "outlinewidth": 0,
            "ticks": ""
           }
          },
          "colorscale": {
           "diverging": [
            [
             0,
             "#8e0152"
            ],
            [
             0.1,
             "#c51b7d"
            ],
            [
             0.2,
             "#de77ae"
            ],
            [
             0.3,
             "#f1b6da"
            ],
            [
             0.4,
             "#fde0ef"
            ],
            [
             0.5,
             "#f7f7f7"
            ],
            [
             0.6,
             "#e6f5d0"
            ],
            [
             0.7,
             "#b8e186"
            ],
            [
             0.8,
             "#7fbc41"
            ],
            [
             0.9,
             "#4d9221"
            ],
            [
             1,
             "#276419"
            ]
           ],
           "sequential": [
            [
             0,
             "#0d0887"
            ],
            [
             0.1111111111111111,
             "#46039f"
            ],
            [
             0.2222222222222222,
             "#7201a8"
            ],
            [
             0.3333333333333333,
             "#9c179e"
            ],
            [
             0.4444444444444444,
             "#bd3786"
            ],
            [
             0.5555555555555556,
             "#d8576b"
            ],
            [
             0.6666666666666666,
             "#ed7953"
            ],
            [
             0.7777777777777778,
             "#fb9f3a"
            ],
            [
             0.8888888888888888,
             "#fdca26"
            ],
            [
             1,
             "#f0f921"
            ]
           ],
           "sequentialminus": [
            [
             0,
             "#0d0887"
            ],
            [
             0.1111111111111111,
             "#46039f"
            ],
            [
             0.2222222222222222,
             "#7201a8"
            ],
            [
             0.3333333333333333,
             "#9c179e"
            ],
            [
             0.4444444444444444,
             "#bd3786"
            ],
            [
             0.5555555555555556,
             "#d8576b"
            ],
            [
             0.6666666666666666,
             "#ed7953"
            ],
            [
             0.7777777777777778,
             "#fb9f3a"
            ],
            [
             0.8888888888888888,
             "#fdca26"
            ],
            [
             1,
             "#f0f921"
            ]
           ]
          },
          "colorway": [
           "#636efa",
           "#EF553B",
           "#00cc96",
           "#ab63fa",
           "#FFA15A",
           "#19d3f3",
           "#FF6692",
           "#B6E880",
           "#FF97FF",
           "#FECB52"
          ],
          "font": {
           "color": "#2a3f5f"
          },
          "geo": {
           "bgcolor": "white",
           "lakecolor": "white",
           "landcolor": "#E5ECF6",
           "showlakes": true,
           "showland": true,
           "subunitcolor": "white"
          },
          "hoverlabel": {
           "align": "left"
          },
          "hovermode": "closest",
          "mapbox": {
           "style": "light"
          },
          "paper_bgcolor": "white",
          "plot_bgcolor": "#E5ECF6",
          "polar": {
           "angularaxis": {
            "gridcolor": "white",
            "linecolor": "white",
            "ticks": ""
           },
           "bgcolor": "#E5ECF6",
           "radialaxis": {
            "gridcolor": "white",
            "linecolor": "white",
            "ticks": ""
           }
          },
          "scene": {
           "xaxis": {
            "backgroundcolor": "#E5ECF6",
            "gridcolor": "white",
            "gridwidth": 2,
            "linecolor": "white",
            "showbackground": true,
            "ticks": "",
            "zerolinecolor": "white"
           },
           "yaxis": {
            "backgroundcolor": "#E5ECF6",
            "gridcolor": "white",
            "gridwidth": 2,
            "linecolor": "white",
            "showbackground": true,
            "ticks": "",
            "zerolinecolor": "white"
           },
           "zaxis": {
            "backgroundcolor": "#E5ECF6",
            "gridcolor": "white",
            "gridwidth": 2,
            "linecolor": "white",
            "showbackground": true,
            "ticks": "",
            "zerolinecolor": "white"
           }
          },
          "shapedefaults": {
           "line": {
            "color": "#2a3f5f"
           }
          },
          "ternary": {
           "aaxis": {
            "gridcolor": "white",
            "linecolor": "white",
            "ticks": ""
           },
           "baxis": {
            "gridcolor": "white",
            "linecolor": "white",
            "ticks": ""
           },
           "bgcolor": "#E5ECF6",
           "caxis": {
            "gridcolor": "white",
            "linecolor": "white",
            "ticks": ""
           }
          },
          "title": {
           "x": 0.05
          },
          "xaxis": {
           "automargin": true,
           "gridcolor": "white",
           "linecolor": "white",
           "ticks": "",
           "title": {
            "standoff": 15
           },
           "zerolinecolor": "white",
           "zerolinewidth": 2
          },
          "yaxis": {
           "automargin": true,
           "gridcolor": "white",
           "linecolor": "white",
           "ticks": "",
           "title": {
            "standoff": 15
           },
           "zerolinecolor": "white",
           "zerolinewidth": 2
          }
         }
        },
        "width": 1400
       }
      }
     },
     "metadata": {},
     "output_type": "display_data"
    }
   ],
   "source": [
    "import pandas as pd\n",
    "import plotly.express as px\n",
    "import os\n",
    "import re\n",
    "\n",
    "losses_folder = 'losses'\n",
    "filename_pattern = r'losses_n(\\d+)_l(\\d+)_dk(\\d+)_dff(\\d+)_do([\\d\\.]+)_multiFold.csv'\n",
    "\n",
    "all_losses_data = []\n",
    "for filename in os.listdir(losses_folder):\n",
    "    if filename.endswith(\".csv\"):\n",
    "        match = re.search(filename_pattern, filename)\n",
    "        if not match:\n",
    "            continue\n",
    "        n_heads = int(match.group(1))\n",
    "        n_layers = int(match.group(2))\n",
    "        d_k = int(match.group(3))\n",
    "        dff = int(match.group(4))\n",
    "        dropout = float(match.group(5))\n",
    "\n",
    "        df_file = pd.read_csv(os.path.join(losses_folder, filename))\n",
    "        df_file['n_heads'] = n_heads\n",
    "        df_file['n_layers'] = n_layers\n",
    "        df_file['d_k'] = d_k\n",
    "        df_file['dff'] = dff\n",
    "        df_file['dropout'] = dropout\n",
    "        all_losses_data.append(df_file)\n",
    "\n",
    "df_combined = pd.concat(all_losses_data, ignore_index=True)\n",
    "\n",
    "# Best validation loss per hyperparameter combination\n",
    "df_plot = df_combined.loc[\n",
    "    df_combined.groupby(['n_heads', 'n_layers', 'd_k', 'dff', 'dropout'])['val_loss'].idxmin()\n",
    "].reset_index(drop=True)\n",
    "df_plot = df_plot.rename(columns={'val_loss': 'Best Eval Loss'})\n",
    "\n",
    "# Rename columns\n",
    "df_plot = df_plot.rename(columns={\n",
    "    \"n_heads\": \"Number of Heads\",\n",
    "    \"n_layers\": \"Number of Layers\",\n",
    "    \"d_k\": \"d_k\",\n",
    "    \"dff\": \"Feed Forward Layer\",\n",
    "    \"dropout\": \"Dropout\"\n",
    "})\n",
    "\n",
    "# Highlight only the best overall combination\n",
    "best_idx = df_plot[\"Best Eval Loss\"].idxmin()\n",
    "df_plot[\"BestFlag\"] = 0\n",
    "df_plot.loc[best_idx, \"BestFlag\"] = 1\n",
    "\n",
    "fig2 = px.parallel_coordinates(\n",
    "    df_plot,\n",
    "    color=\"BestFlag\",\n",
    "    dimensions=[\n",
    "        \"Number of Heads\",\n",
    "        \"Number of Layers\",\n",
    "        \"d_k\",\n",
    "        \"Feed Forward Layer\",\n",
    "        \"Dropout\",\n",
    "        \"Best Eval Loss\"\n",
    "    ],\n",
    "    color_continuous_scale=[[0, \"lightgray\"], [1, \"#9A031E\"]],\n",
    "    range_color=[0, 1]\n",
    ")\n",
    "\n",
    "# Hide colorbar and enforce consistent layout/font\n",
    "fig2.update_layout(\n",
    "    autosize=False,\n",
    "    width=1400,\n",
    "     height=600,\n",
    "    margin=dict(l=80, r=60, t=60, b=60),\n",
    "    plot_bgcolor=\"white\",\n",
    "    font=dict(family=\"Arial\", size=23, color=\"black\"),coloraxis_showscale=False\n",
    ")\n",
    "\n",
    "fig2.show()\n"
   ]
  },
  {
   "cell_type": "code",
   "execution_count": null,
   "id": "8ed9b227",
   "metadata": {},
   "outputs": [
    {
     "data": {
      "application/vnd.plotly.v1+json": {
       "config": {
        "plotlyServerURL": "https://plot.ly"
       },
       "data": [
        {
         "dimensions": [
          {
           "label": "Number of Layers",
           "values": {
            "bdata": "AwQDAgQCBAMCBAMCAwMDBAQEAgQDAwIDAgMCAwIDAwIEAgIDBAICBAMDBAICAgIEAgICBAICAwIEAgIDBAIEAwIDAgMCAwQDAgQEAwMDBAMCAwMDBAQEAwQEBAQEBAQE",
            "dtype": "i1"
           }
          },
          {
           "label": "Number of Heads",
           "values": {
            "bdata": "AQEDAgQBAwQCAgEEBAQCAwMBAwQDAwICAwQCAwQCAwQCAgMCBAECAQQBAQEBAQECBAMCAgQBAQQBBAMDAwECAgMBAwEDAQICBAQBBAIBAQICAwMEAwECBAIDBAMEBAME",
            "dtype": "i1"
           }
          },
          {
           "label": "d_k",
           "values": {
            "bdata": "IEBAQCAgIEAgIEBAQCAgIEAgQCAgICBAICBAICAgQEAgQCBAQEAgICAgQCBAIEAgIEAgQCAgIEBAQCBAIEBAIEBAQEAgICAgICAgQEBAIEBAQCAgIEBAQEBAIEBAQEBA",
            "dtype": "i1"
           }
          },
          {
           "label": "Dropout",
           "values": {
            "bdata": "mpmZmZmZqT+amZmZmZmpP5qZmZmZmak/mpmZmZmZuT8AAAAAAAAAAJqZmZmZmak/AAAAAAAAAAAAAAAAAAAAAJqZmZmZmak/mpmZmZmZqT+amZmZmZmpP5qZmZmZmak/mpmZmZmZqT+amZmZmZmpP5qZmZmZmak/mpmZmZmZqT8AAAAAAAAAAJqZmZmZmak/mpmZmZmZqT+amZmZmZmpP5qZmZmZmak/mpmZmZmZuT+amZmZmZm5P5qZmZmZmak/AAAAAAAAAAAAAAAAAAAAAAAAAAAAAAAAAAAAAAAAAACamZmZmZm5PwAAAAAAAAAAAAAAAAAAAACamZmZmZm5PwAAAAAAAAAAmpmZmZmZqT+amZmZmZmpPwAAAAAAAAAAAAAAAAAAAACamZmZmZmpPwAAAAAAAAAAAAAAAAAAAACamZmZmZm5P5qZmZmZmbk/AAAAAAAAAAAAAAAAAAAAAAAAAAAAAAAAmpmZmZmZuT+amZmZmZm5P5qZmZmZmbk/AAAAAAAAAAAzMzMzMzPDPzMzMzMzM8M/AAAAAAAAAACamZmZmZmpPzMzMzMzM8M/AAAAAAAAAAAzMzMzMzPDP5qZmZmZmbk/AAAAAAAAAACamZmZmZm5P5qZmZmZmbk/mpmZmZmZuT8zMzMzMzPDP5qZmZmZmbk/MzMzMzMzwz8AAAAAAAAAAJqZmZmZmbk/mpmZmZmZuT8AAAAAAAAAADMzMzMzM8M/MzMzMzMzwz8zMzMzMzPDP5qZmZmZmbk/MzMzMzMzwz+amZmZmZm5PzMzMzMzM8M/mpmZmZmZuT+amZmZmZm5PzMzMzMzM8M/mpmZmZmZuT8zMzMzMzPDPzMzMzMzM8M/MzMzMzMzwz8zMzMzMzPDPzMzMzMzM8M/MzMzMzMzwz8zMzMzMzPDPzMzMzMzM8M/MzMzMzMzwz+amZmZmZmpP5qZmZmZmak/MzMzMzMzwz+amZmZmZm5PzMzMzMzM8M/mpmZmZmZuT8zMzMzMzPDP5qZmZmZmak/",
            "dtype": "f8"
           }
          },
          {
           "label": "Average Eval Loss",
           "values": {
            "bdata": "zczMjMZqxz/LzMyM84vHP/7//79nmMc/l5mZmeWgxz8yMzPT2LTHPzIzM9Ojvcc/mZmZmRTDxz8zMzPzWcTHP////986zcc/MjMzU0vWxz9lZmaGG9fHP2VmZuav6cc/ZWZmxjPrxz+ZmZlZjPfHP5iZmVl++Mc/mJmZ2Yr8xz/LzMzM4vzHP8vMzMyb/sc/MjMzMyQIyD9lZmZmmgvIP2VmZgaWDcg/MjMzUyERyD9lZmZmBhzIP/7//9/0Isg/y8zMLCAkyD/MzMzs0SbIP8vMzMyUKsg/zMzMjEgwyD+YmZl5BjbIP8zMzAxNN8g/y8zMDMZByD9lZmYm40HIP8zMzIxEQsg/y8zMLLFEyD+YmZn5okbIP2RmZiZSUsg/ZmZm5gxTyD9mZmaGLlzIP2VmZqbhYsg/ZGZmxs5jyD/MzMxsd2fIP/7//z9Nbcg/zMzMDFlwyD+ZmZkZTHLIP2VmZmYddMg/MjMzE8p3yD8yMzPTh4HIP8vMzCzal8g//v//fz+YyD+YmZlZwpnIP8vMzAxKqMg/MzMzU6aryD+YmZl5ZcLIP8vMzMwsxsg/y8zMLM/JyD+YmZmZBM3IP5mZmRmwzcg/mZmZuQDRyD//////OdLIPzIzM7NP4cg/mZmZOVjpyD/+//9fxevIP/7//x9C+sg/ZWZmxl8CyT9lZmZGVQPJPzIzM9PSFck/y8zMLKocyT+YmZlZzhzJP5iZmdmkJMk/ZWZmBi8syT8yMzMT2ErJP8vMzEzdTsk/mZmZORtayT9mZmZmp17JP/7//9+DbMk/mZmZGcZ1yT+ZmZk5AXnJP/7//9/SgMk/y8zMTEGLyT/+//+/oZbJP8zMzCwrl8k/y8zMbOawyT8yMzMT6bjJP8vMzIzs7Mk/mJmZ2ZfxyT8AAABAJDTKP8vMzGw6aMo/mJmZuUyhyj/+//+f9I/LP2ZmZqaVbsw//v//PxB0zD8zMzPzBgTOP/7//1/oMc4/y8zM7MSRzz8AAABgpm/QP8zMzGwym9E/",
            "dtype": "f8"
           }
          }
         ],
         "domain": {
          "x": [
           0,
           1
          ],
          "y": [
           0,
           1
          ]
         },
         "line": {
          "color": {
           "bdata": "zczMjMZqxz/LzMyM84vHP/7//79nmMc/l5mZmeWgxz8yMzPT2LTHPzIzM9Ojvcc/mZmZmRTDxz8zMzPzWcTHP////986zcc/MjMzU0vWxz9lZmaGG9fHP2VmZuav6cc/ZWZmxjPrxz+ZmZlZjPfHP5iZmVl++Mc/mJmZ2Yr8xz/LzMzM4vzHP8vMzMyb/sc/MjMzMyQIyD9lZmZmmgvIP2VmZgaWDcg/MjMzUyERyD9lZmZmBhzIP/7//9/0Isg/y8zMLCAkyD/MzMzs0SbIP8vMzMyUKsg/zMzMjEgwyD+YmZl5BjbIP8zMzAxNN8g/y8zMDMZByD9lZmYm40HIP8zMzIxEQsg/y8zMLLFEyD+YmZn5okbIP2RmZiZSUsg/ZmZm5gxTyD9mZmaGLlzIP2VmZqbhYsg/ZGZmxs5jyD/MzMxsd2fIP/7//z9Nbcg/zMzMDFlwyD+ZmZkZTHLIP2VmZmYddMg/MjMzE8p3yD8yMzPTh4HIP8vMzCzal8g//v//fz+YyD+YmZlZwpnIP8vMzAxKqMg/MzMzU6aryD+YmZl5ZcLIP8vMzMwsxsg/y8zMLM/JyD+YmZmZBM3IP5mZmRmwzcg/mZmZuQDRyD//////OdLIPzIzM7NP4cg/mZmZOVjpyD/+//9fxevIP/7//x9C+sg/ZWZmxl8CyT9lZmZGVQPJPzIzM9PSFck/y8zMLKocyT+YmZlZzhzJP5iZmdmkJMk/ZWZmBi8syT8yMzMT2ErJP8vMzEzdTsk/mZmZORtayT9mZmZmp17JP/7//9+DbMk/mZmZGcZ1yT+ZmZk5AXnJP/7//9/SgMk/y8zMTEGLyT/+//+/oZbJP8zMzCwrl8k/y8zMbOawyT8yMzMT6bjJP8vMzIzs7Mk/mJmZ2ZfxyT8AAABAJDTKP8vMzGw6aMo/mJmZuUyhyj/+//+f9I/LP2ZmZqaVbsw//v//PxB0zD8zMzPzBgTOP/7//1/oMc4/y8zM7MSRzz8AAABgpm/QP8zMzGwym9E/",
           "dtype": "f8"
          },
          "coloraxis": "coloraxis"
         },
         "name": "",
         "type": "parcoords"
        }
       ],
       "layout": {
        "autosize": false,
        "coloraxis": {
         "cmax": 0.27509747147560115,
         "cmin": 0.1829460322856903,
         "colorbar": {
          "title": {
           "text": "Average Eval Loss"
          }
         },
         "colorscale": [
          [
           0,
           "#083D77"
          ],
          [
           0.5,
           "#9BC995"
          ],
          [
           0.75,
           "#FC7753"
          ],
          [
           1,
           "#9A031E"
          ]
         ]
        },
        "font": {
         "color": "black",
         "family": "Arial",
         "size": 23
        },
        "height": 600,
        "legend": {
         "tracegroupgap": 0
        },
        "margin": {
         "b": 60,
         "l": 80,
         "r": 60,
         "t": 60
        },
        "plot_bgcolor": "white",
        "template": {
         "data": {
          "bar": [
           {
            "error_x": {
             "color": "#2a3f5f"
            },
            "error_y": {
             "color": "#2a3f5f"
            },
            "marker": {
             "line": {
              "color": "#E5ECF6",
              "width": 0.5
             },
             "pattern": {
              "fillmode": "overlay",
              "size": 10,
              "solidity": 0.2
             }
            },
            "type": "bar"
           }
          ],
          "barpolar": [
           {
            "marker": {
             "line": {
              "color": "#E5ECF6",
              "width": 0.5
             },
             "pattern": {
              "fillmode": "overlay",
              "size": 10,
              "solidity": 0.2
             }
            },
            "type": "barpolar"
           }
          ],
          "carpet": [
           {
            "aaxis": {
             "endlinecolor": "#2a3f5f",
             "gridcolor": "white",
             "linecolor": "white",
             "minorgridcolor": "white",
             "startlinecolor": "#2a3f5f"
            },
            "baxis": {
             "endlinecolor": "#2a3f5f",
             "gridcolor": "white",
             "linecolor": "white",
             "minorgridcolor": "white",
             "startlinecolor": "#2a3f5f"
            },
            "type": "carpet"
           }
          ],
          "choropleth": [
           {
            "colorbar": {
             "outlinewidth": 0,
             "ticks": ""
            },
            "type": "choropleth"
           }
          ],
          "contour": [
           {
            "colorbar": {
             "outlinewidth": 0,
             "ticks": ""
            },
            "colorscale": [
             [
              0,
              "#0d0887"
             ],
             [
              0.1111111111111111,
              "#46039f"
             ],
             [
              0.2222222222222222,
              "#7201a8"
             ],
             [
              0.3333333333333333,
              "#9c179e"
             ],
             [
              0.4444444444444444,
              "#bd3786"
             ],
             [
              0.5555555555555556,
              "#d8576b"
             ],
             [
              0.6666666666666666,
              "#ed7953"
             ],
             [
              0.7777777777777778,
              "#fb9f3a"
             ],
             [
              0.8888888888888888,
              "#fdca26"
             ],
             [
              1,
              "#f0f921"
             ]
            ],
            "type": "contour"
           }
          ],
          "contourcarpet": [
           {
            "colorbar": {
             "outlinewidth": 0,
             "ticks": ""
            },
            "type": "contourcarpet"
           }
          ],
          "heatmap": [
           {
            "colorbar": {
             "outlinewidth": 0,
             "ticks": ""
            },
            "colorscale": [
             [
              0,
              "#0d0887"
             ],
             [
              0.1111111111111111,
              "#46039f"
             ],
             [
              0.2222222222222222,
              "#7201a8"
             ],
             [
              0.3333333333333333,
              "#9c179e"
             ],
             [
              0.4444444444444444,
              "#bd3786"
             ],
             [
              0.5555555555555556,
              "#d8576b"
             ],
             [
              0.6666666666666666,
              "#ed7953"
             ],
             [
              0.7777777777777778,
              "#fb9f3a"
             ],
             [
              0.8888888888888888,
              "#fdca26"
             ],
             [
              1,
              "#f0f921"
             ]
            ],
            "type": "heatmap"
           }
          ],
          "histogram": [
           {
            "marker": {
             "pattern": {
              "fillmode": "overlay",
              "size": 10,
              "solidity": 0.2
             }
            },
            "type": "histogram"
           }
          ],
          "histogram2d": [
           {
            "colorbar": {
             "outlinewidth": 0,
             "ticks": ""
            },
            "colorscale": [
             [
              0,
              "#0d0887"
             ],
             [
              0.1111111111111111,
              "#46039f"
             ],
             [
              0.2222222222222222,
              "#7201a8"
             ],
             [
              0.3333333333333333,
              "#9c179e"
             ],
             [
              0.4444444444444444,
              "#bd3786"
             ],
             [
              0.5555555555555556,
              "#d8576b"
             ],
             [
              0.6666666666666666,
              "#ed7953"
             ],
             [
              0.7777777777777778,
              "#fb9f3a"
             ],
             [
              0.8888888888888888,
              "#fdca26"
             ],
             [
              1,
              "#f0f921"
             ]
            ],
            "type": "histogram2d"
           }
          ],
          "histogram2dcontour": [
           {
            "colorbar": {
             "outlinewidth": 0,
             "ticks": ""
            },
            "colorscale": [
             [
              0,
              "#0d0887"
             ],
             [
              0.1111111111111111,
              "#46039f"
             ],
             [
              0.2222222222222222,
              "#7201a8"
             ],
             [
              0.3333333333333333,
              "#9c179e"
             ],
             [
              0.4444444444444444,
              "#bd3786"
             ],
             [
              0.5555555555555556,
              "#d8576b"
             ],
             [
              0.6666666666666666,
              "#ed7953"
             ],
             [
              0.7777777777777778,
              "#fb9f3a"
             ],
             [
              0.8888888888888888,
              "#fdca26"
             ],
             [
              1,
              "#f0f921"
             ]
            ],
            "type": "histogram2dcontour"
           }
          ],
          "mesh3d": [
           {
            "colorbar": {
             "outlinewidth": 0,
             "ticks": ""
            },
            "type": "mesh3d"
           }
          ],
          "parcoords": [
           {
            "line": {
             "colorbar": {
              "outlinewidth": 0,
              "ticks": ""
             }
            },
            "type": "parcoords"
           }
          ],
          "pie": [
           {
            "automargin": true,
            "type": "pie"
           }
          ],
          "scatter": [
           {
            "fillpattern": {
             "fillmode": "overlay",
             "size": 10,
             "solidity": 0.2
            },
            "type": "scatter"
           }
          ],
          "scatter3d": [
           {
            "line": {
             "colorbar": {
              "outlinewidth": 0,
              "ticks": ""
             }
            },
            "marker": {
             "colorbar": {
              "outlinewidth": 0,
              "ticks": ""
             }
            },
            "type": "scatter3d"
           }
          ],
          "scattercarpet": [
           {
            "marker": {
             "colorbar": {
              "outlinewidth": 0,
              "ticks": ""
             }
            },
            "type": "scattercarpet"
           }
          ],
          "scattergeo": [
           {
            "marker": {
             "colorbar": {
              "outlinewidth": 0,
              "ticks": ""
             }
            },
            "type": "scattergeo"
           }
          ],
          "scattergl": [
           {
            "marker": {
             "colorbar": {
              "outlinewidth": 0,
              "ticks": ""
             }
            },
            "type": "scattergl"
           }
          ],
          "scattermap": [
           {
            "marker": {
             "colorbar": {
              "outlinewidth": 0,
              "ticks": ""
             }
            },
            "type": "scattermap"
           }
          ],
          "scattermapbox": [
           {
            "marker": {
             "colorbar": {
              "outlinewidth": 0,
              "ticks": ""
             }
            },
            "type": "scattermapbox"
           }
          ],
          "scatterpolar": [
           {
            "marker": {
             "colorbar": {
              "outlinewidth": 0,
              "ticks": ""
             }
            },
            "type": "scatterpolar"
           }
          ],
          "scatterpolargl": [
           {
            "marker": {
             "colorbar": {
              "outlinewidth": 0,
              "ticks": ""
             }
            },
            "type": "scatterpolargl"
           }
          ],
          "scatterternary": [
           {
            "marker": {
             "colorbar": {
              "outlinewidth": 0,
              "ticks": ""
             }
            },
            "type": "scatterternary"
           }
          ],
          "surface": [
           {
            "colorbar": {
             "outlinewidth": 0,
             "ticks": ""
            },
            "colorscale": [
             [
              0,
              "#0d0887"
             ],
             [
              0.1111111111111111,
              "#46039f"
             ],
             [
              0.2222222222222222,
              "#7201a8"
             ],
             [
              0.3333333333333333,
              "#9c179e"
             ],
             [
              0.4444444444444444,
              "#bd3786"
             ],
             [
              0.5555555555555556,
              "#d8576b"
             ],
             [
              0.6666666666666666,
              "#ed7953"
             ],
             [
              0.7777777777777778,
              "#fb9f3a"
             ],
             [
              0.8888888888888888,
              "#fdca26"
             ],
             [
              1,
              "#f0f921"
             ]
            ],
            "type": "surface"
           }
          ],
          "table": [
           {
            "cells": {
             "fill": {
              "color": "#EBF0F8"
             },
             "line": {
              "color": "white"
             }
            },
            "header": {
             "fill": {
              "color": "#C8D4E3"
             },
             "line": {
              "color": "white"
             }
            },
            "type": "table"
           }
          ]
         },
         "layout": {
          "annotationdefaults": {
           "arrowcolor": "#2a3f5f",
           "arrowhead": 0,
           "arrowwidth": 1
          },
          "autotypenumbers": "strict",
          "coloraxis": {
           "colorbar": {
            "outlinewidth": 0,
            "ticks": ""
           }
          },
          "colorscale": {
           "diverging": [
            [
             0,
             "#8e0152"
            ],
            [
             0.1,
             "#c51b7d"
            ],
            [
             0.2,
             "#de77ae"
            ],
            [
             0.3,
             "#f1b6da"
            ],
            [
             0.4,
             "#fde0ef"
            ],
            [
             0.5,
             "#f7f7f7"
            ],
            [
             0.6,
             "#e6f5d0"
            ],
            [
             0.7,
             "#b8e186"
            ],
            [
             0.8,
             "#7fbc41"
            ],
            [
             0.9,
             "#4d9221"
            ],
            [
             1,
             "#276419"
            ]
           ],
           "sequential": [
            [
             0,
             "#0d0887"
            ],
            [
             0.1111111111111111,
             "#46039f"
            ],
            [
             0.2222222222222222,
             "#7201a8"
            ],
            [
             0.3333333333333333,
             "#9c179e"
            ],
            [
             0.4444444444444444,
             "#bd3786"
            ],
            [
             0.5555555555555556,
             "#d8576b"
            ],
            [
             0.6666666666666666,
             "#ed7953"
            ],
            [
             0.7777777777777778,
             "#fb9f3a"
            ],
            [
             0.8888888888888888,
             "#fdca26"
            ],
            [
             1,
             "#f0f921"
            ]
           ],
           "sequentialminus": [
            [
             0,
             "#0d0887"
            ],
            [
             0.1111111111111111,
             "#46039f"
            ],
            [
             0.2222222222222222,
             "#7201a8"
            ],
            [
             0.3333333333333333,
             "#9c179e"
            ],
            [
             0.4444444444444444,
             "#bd3786"
            ],
            [
             0.5555555555555556,
             "#d8576b"
            ],
            [
             0.6666666666666666,
             "#ed7953"
            ],
            [
             0.7777777777777778,
             "#fb9f3a"
            ],
            [
             0.8888888888888888,
             "#fdca26"
            ],
            [
             1,
             "#f0f921"
            ]
           ]
          },
          "colorway": [
           "#636efa",
           "#EF553B",
           "#00cc96",
           "#ab63fa",
           "#FFA15A",
           "#19d3f3",
           "#FF6692",
           "#B6E880",
           "#FF97FF",
           "#FECB52"
          ],
          "font": {
           "color": "#2a3f5f"
          },
          "geo": {
           "bgcolor": "white",
           "lakecolor": "white",
           "landcolor": "#E5ECF6",
           "showlakes": true,
           "showland": true,
           "subunitcolor": "white"
          },
          "hoverlabel": {
           "align": "left"
          },
          "hovermode": "closest",
          "mapbox": {
           "style": "light"
          },
          "paper_bgcolor": "white",
          "plot_bgcolor": "#E5ECF6",
          "polar": {
           "angularaxis": {
            "gridcolor": "white",
            "linecolor": "white",
            "ticks": ""
           },
           "bgcolor": "#E5ECF6",
           "radialaxis": {
            "gridcolor": "white",
            "linecolor": "white",
            "ticks": ""
           }
          },
          "scene": {
           "xaxis": {
            "backgroundcolor": "#E5ECF6",
            "gridcolor": "white",
            "gridwidth": 2,
            "linecolor": "white",
            "showbackground": true,
            "ticks": "",
            "zerolinecolor": "white"
           },
           "yaxis": {
            "backgroundcolor": "#E5ECF6",
            "gridcolor": "white",
            "gridwidth": 2,
            "linecolor": "white",
            "showbackground": true,
            "ticks": "",
            "zerolinecolor": "white"
           },
           "zaxis": {
            "backgroundcolor": "#E5ECF6",
            "gridcolor": "white",
            "gridwidth": 2,
            "linecolor": "white",
            "showbackground": true,
            "ticks": "",
            "zerolinecolor": "white"
           }
          },
          "shapedefaults": {
           "line": {
            "color": "#2a3f5f"
           }
          },
          "ternary": {
           "aaxis": {
            "gridcolor": "white",
            "linecolor": "white",
            "ticks": ""
           },
           "baxis": {
            "gridcolor": "white",
            "linecolor": "white",
            "ticks": ""
           },
           "bgcolor": "#E5ECF6",
           "caxis": {
            "gridcolor": "white",
            "linecolor": "white",
            "ticks": ""
           }
          },
          "title": {
           "x": 0.05
          },
          "xaxis": {
           "automargin": true,
           "gridcolor": "white",
           "linecolor": "white",
           "ticks": "",
           "title": {
            "standoff": 15
           },
           "zerolinecolor": "white",
           "zerolinewidth": 2
          },
          "yaxis": {
           "automargin": true,
           "gridcolor": "white",
           "linecolor": "white",
           "ticks": "",
           "title": {
            "standoff": 15
           },
           "zerolinecolor": "white",
           "zerolinewidth": 2
          }
         }
        },
        "width": 1400
       }
      }
     },
     "metadata": {},
     "output_type": "display_data"
    }
   ],
   "source": [
    "import pandas as pd\n",
    "import plotly.express as px\n",
    "import os\n",
    "import re\n",
    "\n",
    "# Folder with loss CSVs\n",
    "losses_folder = 'losses2'\n",
    "\n",
    "# Filename pattern (with fold)\n",
    "filename_pattern = r'losses_n(\\d+)_l(\\d+)_dk(\\d+)_dff(\\d+)_do([\\d\\.]+)_fold(\\d+)_multiFold.csv'\n",
    "\n",
    "all_losses_data = []\n",
    "for filename in os.listdir(losses_folder):\n",
    "    if not filename.endswith(\".csv\"):\n",
    "        continue\n",
    "    match = re.search(filename_pattern, filename)\n",
    "    if not match:\n",
    "        continue\n",
    "\n",
    "    n_heads = int(match.group(1))\n",
    "    n_layers = int(match.group(2))\n",
    "    d_k = int(match.group(3))\n",
    "    dff = int(match.group(4))\n",
    "    dropout = float(match.group(5))\n",
    "    fold = int(match.group(6))\n",
    "\n",
    "    df_file = pd.read_csv(os.path.join(losses_folder, filename))\n",
    "    df_file['n_heads'] = n_heads\n",
    "    df_file['n_layers'] = n_layers\n",
    "    df_file['d_k'] = d_k\n",
    "    df_file['dff'] = dff\n",
    "    df_file['dropout'] = dropout\n",
    "    df_file['fold'] = fold\n",
    "    all_losses_data.append(df_file)\n",
    "\n",
    "# Combine all loss files\n",
    "df_combined = pd.concat(all_losses_data, ignore_index=True)\n",
    "\n",
    "# Best val_loss per fold\n",
    "df_best_per_fold = df_combined.loc[\n",
    "    df_combined.groupby(['n_heads', 'n_layers', 'd_k', 'dff', 'dropout', 'fold'])['val_loss'].idxmin()\n",
    "].reset_index(drop=True)\n",
    "\n",
    "# Average best loss across folds\n",
    "df_plot = df_best_per_fold.groupby(\n",
    "    ['n_heads', 'n_layers', 'd_k', 'dff', 'dropout']\n",
    ")['val_loss'].mean().reset_index()\n",
    "\n",
    "# Rename final column\n",
    "df_plot = df_plot.rename(columns={'val_loss': 'Average Eval Loss'})\n",
    "\n",
    "# Rename hyperparameter columns\n",
    "df_plot = df_plot.rename(columns={\n",
    "    \"n_heads\": \"Number of Heads\",\n",
    "    \"n_layers\": \"Number of Layers\",\n",
    "    \"d_k\": \"d_k\",\n",
    "    \"dropout\": \"Dropout\"\n",
    "})\n",
    "\n",
    "# Sort by best loss\n",
    "df_plot = df_plot.sort_values(\"Average Eval Loss\", ascending=True).reset_index(drop=True)\n",
    "\n",
    "# Parallel coordinates plot WITHOUT Feed Forward Dimension\n",
    "custom_colors = [\n",
    "    [0.0, \"#083D77\"],\n",
    "    [0.5, \"#9BC995\"],\n",
    "    [0.75, \"#FC7753\"],\n",
    "    [1.0, \"#9A031E\"]\n",
    "]\n",
    "\n",
    "fig = px.parallel_coordinates(\n",
    "    df_plot,\n",
    "    color=\"Average Eval Loss\",\n",
    "    dimensions=[\n",
    "        \"Number of Layers\",\n",
    "        \"Number of Heads\",\n",
    "        \"d_k\",\n",
    "        \"Dropout\",\n",
    "        \"Average Eval Loss\"\n",
    "    ],\n",
    "    color_continuous_scale=custom_colors,\n",
    "    range_color=[df_plot[\"Average Eval Loss\"].min(), df_plot[\"Average Eval Loss\"].max()]\n",
    ")\n",
    "\n",
    "fig.update_layout(\n",
    "    autosize=False,\n",
    "    width=1400,\n",
    "     height=600,\n",
    "    margin=dict(l=80, r=60, t=60, b=60),\n",
    "    plot_bgcolor=\"white\",\n",
    "    font=dict(family=\"Arial\", size=23, color=\"black\")\n",
    ")\n",
    "\n",
    "fig.show()\n"
   ]
  },
  {
   "cell_type": "code",
   "execution_count": 26,
   "id": "e81e8120",
   "metadata": {},
   "outputs": [
    {
     "data": {
      "application/vnd.plotly.v1+json": {
       "config": {
        "plotlyServerURL": "https://plot.ly"
       },
       "data": [
        {
         "dimensions": [
          {
           "label": "Number of Layers",
           "values": {
            "bdata": "AgICAgICAgIDAwMDAwMDAwQEBAQEBAQEAgICAgICAgIDAwMDAwMDAwQEBAQEBAQEAgICAgICAgIDAwMDAwMDAwQEBAQEBAQEAgICAgICAgIDAwMDAwMDAwQEBAQEBAQE",
            "dtype": "i1"
           }
          },
          {
           "label": "Number of Heads",
           "values": {
            "bdata": "AQEBAQEBAQEBAQEBAQEBAQEBAQEBAQEBAgICAgICAgICAgICAgICAgICAgICAgICAwMDAwMDAwMDAwMDAwMDAwMDAwMDAwMDBAQEBAQEBAQEBAQEBAQEBAQEBAQEBAQE",
            "dtype": "i1"
           }
          },
          {
           "label": "d_k",
           "values": {
            "bdata": "ICAgIEBAQEAgICAgQEBAQCAgICBAQEBAICAgIEBAQEAgICAgQEBAQCAgICBAQEBAICAgIEBAQEAgICAgQEBAQCAgICBAQEBAICAgIEBAQEAgICAgQEBAQCAgICBAQEBA",
            "dtype": "i1"
           }
          },
          {
           "label": "Dropout",
           "values": {
            "bdata": "AAAAAAAAAACamZmZmZmpP5qZmZmZmbk/MzMzMzMzwz8AAAAAAAAAAJqZmZmZmak/mpmZmZmZuT8zMzMzMzPDPwAAAAAAAAAAmpmZmZmZqT+amZmZmZm5PzMzMzMzM8M/AAAAAAAAAACamZmZmZmpP5qZmZmZmbk/MzMzMzMzwz8AAAAAAAAAAJqZmZmZmak/mpmZmZmZuT8zMzMzMzPDPwAAAAAAAAAAmpmZmZmZqT+amZmZmZm5PzMzMzMzM8M/AAAAAAAAAACamZmZmZmpP5qZmZmZmbk/MzMzMzMzwz8AAAAAAAAAAJqZmZmZmak/mpmZmZmZuT8zMzMzMzPDPwAAAAAAAAAAmpmZmZmZqT+amZmZmZm5PzMzMzMzM8M/AAAAAAAAAACamZmZmZmpP5qZmZmZmbk/MzMzMzMzwz8AAAAAAAAAAJqZmZmZmak/mpmZmZmZuT8zMzMzMzPDPwAAAAAAAAAAmpmZmZmZqT+amZmZmZm5PzMzMzMzM8M/AAAAAAAAAACamZmZmZmpP5qZmZmZmbk/MzMzMzMzwz8AAAAAAAAAAJqZmZmZmak/mpmZmZmZuT8zMzMzMzPDPwAAAAAAAAAAmpmZmZmZqT+amZmZmZm5PzMzMzMzM8M/AAAAAAAAAACamZmZmZmpP5qZmZmZmbk/MzMzMzMzwz8AAAAAAAAAAJqZmZmZmak/mpmZmZmZuT8zMzMzMzPDPwAAAAAAAAAAmpmZmZmZqT+amZmZmZm5PzMzMzMzM8M/AAAAAAAAAACamZmZmZmpP5qZmZmZmbk/MzMzMzMzwz8AAAAAAAAAAJqZmZmZmak/mpmZmZmZuT8zMzMzMzPDPwAAAAAAAAAAmpmZmZmZqT+amZmZmZm5PzMzMzMzM8M/AAAAAAAAAACamZmZmZmpP5qZmZmZmbk/MzMzMzMzwz8AAAAAAAAAAJqZmZmZmak/mpmZmZmZuT8zMzMzMzPDPwAAAAAAAAAAmpmZmZmZqT+amZmZmZm5PzMzMzMzM8M/",
            "dtype": "f8"
           }
          },
          {
           "label": "Average Eval Loss",
           "values": {
            "bdata": "mZmZGUxyyD8yMzPTo73HPzIzMxPKd8g/y8zMzCzGyD9lZmZmHXTIP2ZmZoYuXMg/MjMz04eByD/+//9fxevIP8vMzCzPycg/zczMjMZqxz/+//8/TW3IP2VmZgYvLMk/mJmZWc4cyT9lZmaGG9fHPzIzM9PSFck//v//39KAyT9kZmbGzmPIP8vMzMyb/sc/y8zMTEGLyT/+///fg2zJP8zMzAxZcMg/y8zMjPOLxz+ZmZkZsM3IPwAAAEAkNMo/ZWZmpuFiyD/////fOs3HP2VmZmYGHMg/y8zMDEqoyD/LzMzMlCrIP8vMzCyxRMg/l5mZmeWgxz/MzMwsK5fJP8zMzAxNN8g/mJmZWX74xz/LzMxM3U7JP2VmZsZfAsk/ZGZmJlJSyD/+///f9CLIP5mZmTkBeck//v//v6GWyT/MzMyMRELIPzIzM1NL1sc/y8zMLNqXyD8yMzMT2ErJPzMzM1Omq8g//v//n/SPyz/+//8fQvrIP8vMzGw6aMo/y8zMLCAkyD+YmZn5okbIP/////850sg/mJmZ2aQkyT9lZmZGVQPJPzIzMzMkCMg/y8zMLKocyT+YmZlZwpnIP8zMzIxIMMg/ZWZmBpYNyD8yMzNTIRHIPzIzMxPpuMk/y8zMDMZByD/+//+/Z5jHPzIzM7NP4cg/y8zMbOawyT+ZmZmZFMPHP5iZmdmK/Mc/mZmZOVjpyD+YmZnZl/HJP8vMzMzi/Mc/ZmZmppVuzD8zMzPzBgTOPwAAAGCmb9A//v//fz+YyD+YmZl5ZcLIP5iZmXkGNsg/mZmZORtayT+ZmZm5ANHIP2VmZuav6cc/ZWZmJuNByD+YmZmZBM3IP8zMzOzRJsg/mZmZWYz3xz/MzMxsd2fIP8vMzIzs7Mk/MzMz81nExz9lZmbGM+vHP5mZmRnGdck/mJmZuUyhyj8yMzPT2LTHP2VmZmaaC8g/ZmZmZqdeyT/+//8/EHTMP2ZmZuYMU8g/zMzMbDKb0T/LzMzsxJHPP/7//1/oMc4/",
            "dtype": "f8"
           }
          }
         ],
         "domain": {
          "x": [
           0,
           1
          ],
          "y": [
           0,
           1
          ]
         },
         "line": {
          "color": {
           "bdata": "AAAAAAAAAAAAAQAAAAAAAAAAAAAAAAAAAAAAAAAAAAAAAAAAAAAAAAAAAAAAAAAAAAAAAAAAAAAAAAAAAAAAAAAAAAAAAAAAAAAAAAAAAAAAAAAAAAAAAAAAAAAAAAAA",
           "dtype": "i1"
          },
          "coloraxis": "coloraxis"
         },
         "name": "",
         "type": "parcoords"
        }
       ],
       "layout": {
        "autosize": false,
        "coloraxis": {
         "cmax": 1,
         "cmin": 0,
         "colorbar": {
          "title": {
           "text": "BestFlag"
          }
         },
         "colorscale": [
          [
           0,
           "lightgray"
          ],
          [
           1,
           "#9A031E"
          ]
         ],
         "showscale": false
        },
        "font": {
         "color": "black",
         "family": "Arial",
         "size": 23
        },
        "height": 600,
        "legend": {
         "tracegroupgap": 0
        },
        "margin": {
         "b": 60,
         "l": 80,
         "r": 60,
         "t": 60
        },
        "plot_bgcolor": "white",
        "template": {
         "data": {
          "bar": [
           {
            "error_x": {
             "color": "#2a3f5f"
            },
            "error_y": {
             "color": "#2a3f5f"
            },
            "marker": {
             "line": {
              "color": "#E5ECF6",
              "width": 0.5
             },
             "pattern": {
              "fillmode": "overlay",
              "size": 10,
              "solidity": 0.2
             }
            },
            "type": "bar"
           }
          ],
          "barpolar": [
           {
            "marker": {
             "line": {
              "color": "#E5ECF6",
              "width": 0.5
             },
             "pattern": {
              "fillmode": "overlay",
              "size": 10,
              "solidity": 0.2
             }
            },
            "type": "barpolar"
           }
          ],
          "carpet": [
           {
            "aaxis": {
             "endlinecolor": "#2a3f5f",
             "gridcolor": "white",
             "linecolor": "white",
             "minorgridcolor": "white",
             "startlinecolor": "#2a3f5f"
            },
            "baxis": {
             "endlinecolor": "#2a3f5f",
             "gridcolor": "white",
             "linecolor": "white",
             "minorgridcolor": "white",
             "startlinecolor": "#2a3f5f"
            },
            "type": "carpet"
           }
          ],
          "choropleth": [
           {
            "colorbar": {
             "outlinewidth": 0,
             "ticks": ""
            },
            "type": "choropleth"
           }
          ],
          "contour": [
           {
            "colorbar": {
             "outlinewidth": 0,
             "ticks": ""
            },
            "colorscale": [
             [
              0,
              "#0d0887"
             ],
             [
              0.1111111111111111,
              "#46039f"
             ],
             [
              0.2222222222222222,
              "#7201a8"
             ],
             [
              0.3333333333333333,
              "#9c179e"
             ],
             [
              0.4444444444444444,
              "#bd3786"
             ],
             [
              0.5555555555555556,
              "#d8576b"
             ],
             [
              0.6666666666666666,
              "#ed7953"
             ],
             [
              0.7777777777777778,
              "#fb9f3a"
             ],
             [
              0.8888888888888888,
              "#fdca26"
             ],
             [
              1,
              "#f0f921"
             ]
            ],
            "type": "contour"
           }
          ],
          "contourcarpet": [
           {
            "colorbar": {
             "outlinewidth": 0,
             "ticks": ""
            },
            "type": "contourcarpet"
           }
          ],
          "heatmap": [
           {
            "colorbar": {
             "outlinewidth": 0,
             "ticks": ""
            },
            "colorscale": [
             [
              0,
              "#0d0887"
             ],
             [
              0.1111111111111111,
              "#46039f"
             ],
             [
              0.2222222222222222,
              "#7201a8"
             ],
             [
              0.3333333333333333,
              "#9c179e"
             ],
             [
              0.4444444444444444,
              "#bd3786"
             ],
             [
              0.5555555555555556,
              "#d8576b"
             ],
             [
              0.6666666666666666,
              "#ed7953"
             ],
             [
              0.7777777777777778,
              "#fb9f3a"
             ],
             [
              0.8888888888888888,
              "#fdca26"
             ],
             [
              1,
              "#f0f921"
             ]
            ],
            "type": "heatmap"
           }
          ],
          "histogram": [
           {
            "marker": {
             "pattern": {
              "fillmode": "overlay",
              "size": 10,
              "solidity": 0.2
             }
            },
            "type": "histogram"
           }
          ],
          "histogram2d": [
           {
            "colorbar": {
             "outlinewidth": 0,
             "ticks": ""
            },
            "colorscale": [
             [
              0,
              "#0d0887"
             ],
             [
              0.1111111111111111,
              "#46039f"
             ],
             [
              0.2222222222222222,
              "#7201a8"
             ],
             [
              0.3333333333333333,
              "#9c179e"
             ],
             [
              0.4444444444444444,
              "#bd3786"
             ],
             [
              0.5555555555555556,
              "#d8576b"
             ],
             [
              0.6666666666666666,
              "#ed7953"
             ],
             [
              0.7777777777777778,
              "#fb9f3a"
             ],
             [
              0.8888888888888888,
              "#fdca26"
             ],
             [
              1,
              "#f0f921"
             ]
            ],
            "type": "histogram2d"
           }
          ],
          "histogram2dcontour": [
           {
            "colorbar": {
             "outlinewidth": 0,
             "ticks": ""
            },
            "colorscale": [
             [
              0,
              "#0d0887"
             ],
             [
              0.1111111111111111,
              "#46039f"
             ],
             [
              0.2222222222222222,
              "#7201a8"
             ],
             [
              0.3333333333333333,
              "#9c179e"
             ],
             [
              0.4444444444444444,
              "#bd3786"
             ],
             [
              0.5555555555555556,
              "#d8576b"
             ],
             [
              0.6666666666666666,
              "#ed7953"
             ],
             [
              0.7777777777777778,
              "#fb9f3a"
             ],
             [
              0.8888888888888888,
              "#fdca26"
             ],
             [
              1,
              "#f0f921"
             ]
            ],
            "type": "histogram2dcontour"
           }
          ],
          "mesh3d": [
           {
            "colorbar": {
             "outlinewidth": 0,
             "ticks": ""
            },
            "type": "mesh3d"
           }
          ],
          "parcoords": [
           {
            "line": {
             "colorbar": {
              "outlinewidth": 0,
              "ticks": ""
             }
            },
            "type": "parcoords"
           }
          ],
          "pie": [
           {
            "automargin": true,
            "type": "pie"
           }
          ],
          "scatter": [
           {
            "fillpattern": {
             "fillmode": "overlay",
             "size": 10,
             "solidity": 0.2
            },
            "type": "scatter"
           }
          ],
          "scatter3d": [
           {
            "line": {
             "colorbar": {
              "outlinewidth": 0,
              "ticks": ""
             }
            },
            "marker": {
             "colorbar": {
              "outlinewidth": 0,
              "ticks": ""
             }
            },
            "type": "scatter3d"
           }
          ],
          "scattercarpet": [
           {
            "marker": {
             "colorbar": {
              "outlinewidth": 0,
              "ticks": ""
             }
            },
            "type": "scattercarpet"
           }
          ],
          "scattergeo": [
           {
            "marker": {
             "colorbar": {
              "outlinewidth": 0,
              "ticks": ""
             }
            },
            "type": "scattergeo"
           }
          ],
          "scattergl": [
           {
            "marker": {
             "colorbar": {
              "outlinewidth": 0,
              "ticks": ""
             }
            },
            "type": "scattergl"
           }
          ],
          "scattermap": [
           {
            "marker": {
             "colorbar": {
              "outlinewidth": 0,
              "ticks": ""
             }
            },
            "type": "scattermap"
           }
          ],
          "scattermapbox": [
           {
            "marker": {
             "colorbar": {
              "outlinewidth": 0,
              "ticks": ""
             }
            },
            "type": "scattermapbox"
           }
          ],
          "scatterpolar": [
           {
            "marker": {
             "colorbar": {
              "outlinewidth": 0,
              "ticks": ""
             }
            },
            "type": "scatterpolar"
           }
          ],
          "scatterpolargl": [
           {
            "marker": {
             "colorbar": {
              "outlinewidth": 0,
              "ticks": ""
             }
            },
            "type": "scatterpolargl"
           }
          ],
          "scatterternary": [
           {
            "marker": {
             "colorbar": {
              "outlinewidth": 0,
              "ticks": ""
             }
            },
            "type": "scatterternary"
           }
          ],
          "surface": [
           {
            "colorbar": {
             "outlinewidth": 0,
             "ticks": ""
            },
            "colorscale": [
             [
              0,
              "#0d0887"
             ],
             [
              0.1111111111111111,
              "#46039f"
             ],
             [
              0.2222222222222222,
              "#7201a8"
             ],
             [
              0.3333333333333333,
              "#9c179e"
             ],
             [
              0.4444444444444444,
              "#bd3786"
             ],
             [
              0.5555555555555556,
              "#d8576b"
             ],
             [
              0.6666666666666666,
              "#ed7953"
             ],
             [
              0.7777777777777778,
              "#fb9f3a"
             ],
             [
              0.8888888888888888,
              "#fdca26"
             ],
             [
              1,
              "#f0f921"
             ]
            ],
            "type": "surface"
           }
          ],
          "table": [
           {
            "cells": {
             "fill": {
              "color": "#EBF0F8"
             },
             "line": {
              "color": "white"
             }
            },
            "header": {
             "fill": {
              "color": "#C8D4E3"
             },
             "line": {
              "color": "white"
             }
            },
            "type": "table"
           }
          ]
         },
         "layout": {
          "annotationdefaults": {
           "arrowcolor": "#2a3f5f",
           "arrowhead": 0,
           "arrowwidth": 1
          },
          "autotypenumbers": "strict",
          "coloraxis": {
           "colorbar": {
            "outlinewidth": 0,
            "ticks": ""
           }
          },
          "colorscale": {
           "diverging": [
            [
             0,
             "#8e0152"
            ],
            [
             0.1,
             "#c51b7d"
            ],
            [
             0.2,
             "#de77ae"
            ],
            [
             0.3,
             "#f1b6da"
            ],
            [
             0.4,
             "#fde0ef"
            ],
            [
             0.5,
             "#f7f7f7"
            ],
            [
             0.6,
             "#e6f5d0"
            ],
            [
             0.7,
             "#b8e186"
            ],
            [
             0.8,
             "#7fbc41"
            ],
            [
             0.9,
             "#4d9221"
            ],
            [
             1,
             "#276419"
            ]
           ],
           "sequential": [
            [
             0,
             "#0d0887"
            ],
            [
             0.1111111111111111,
             "#46039f"
            ],
            [
             0.2222222222222222,
             "#7201a8"
            ],
            [
             0.3333333333333333,
             "#9c179e"
            ],
            [
             0.4444444444444444,
             "#bd3786"
            ],
            [
             0.5555555555555556,
             "#d8576b"
            ],
            [
             0.6666666666666666,
             "#ed7953"
            ],
            [
             0.7777777777777778,
             "#fb9f3a"
            ],
            [
             0.8888888888888888,
             "#fdca26"
            ],
            [
             1,
             "#f0f921"
            ]
           ],
           "sequentialminus": [
            [
             0,
             "#0d0887"
            ],
            [
             0.1111111111111111,
             "#46039f"
            ],
            [
             0.2222222222222222,
             "#7201a8"
            ],
            [
             0.3333333333333333,
             "#9c179e"
            ],
            [
             0.4444444444444444,
             "#bd3786"
            ],
            [
             0.5555555555555556,
             "#d8576b"
            ],
            [
             0.6666666666666666,
             "#ed7953"
            ],
            [
             0.7777777777777778,
             "#fb9f3a"
            ],
            [
             0.8888888888888888,
             "#fdca26"
            ],
            [
             1,
             "#f0f921"
            ]
           ]
          },
          "colorway": [
           "#636efa",
           "#EF553B",
           "#00cc96",
           "#ab63fa",
           "#FFA15A",
           "#19d3f3",
           "#FF6692",
           "#B6E880",
           "#FF97FF",
           "#FECB52"
          ],
          "font": {
           "color": "#2a3f5f"
          },
          "geo": {
           "bgcolor": "white",
           "lakecolor": "white",
           "landcolor": "#E5ECF6",
           "showlakes": true,
           "showland": true,
           "subunitcolor": "white"
          },
          "hoverlabel": {
           "align": "left"
          },
          "hovermode": "closest",
          "mapbox": {
           "style": "light"
          },
          "paper_bgcolor": "white",
          "plot_bgcolor": "#E5ECF6",
          "polar": {
           "angularaxis": {
            "gridcolor": "white",
            "linecolor": "white",
            "ticks": ""
           },
           "bgcolor": "#E5ECF6",
           "radialaxis": {
            "gridcolor": "white",
            "linecolor": "white",
            "ticks": ""
           }
          },
          "scene": {
           "xaxis": {
            "backgroundcolor": "#E5ECF6",
            "gridcolor": "white",
            "gridwidth": 2,
            "linecolor": "white",
            "showbackground": true,
            "ticks": "",
            "zerolinecolor": "white"
           },
           "yaxis": {
            "backgroundcolor": "#E5ECF6",
            "gridcolor": "white",
            "gridwidth": 2,
            "linecolor": "white",
            "showbackground": true,
            "ticks": "",
            "zerolinecolor": "white"
           },
           "zaxis": {
            "backgroundcolor": "#E5ECF6",
            "gridcolor": "white",
            "gridwidth": 2,
            "linecolor": "white",
            "showbackground": true,
            "ticks": "",
            "zerolinecolor": "white"
           }
          },
          "shapedefaults": {
           "line": {
            "color": "#2a3f5f"
           }
          },
          "ternary": {
           "aaxis": {
            "gridcolor": "white",
            "linecolor": "white",
            "ticks": ""
           },
           "baxis": {
            "gridcolor": "white",
            "linecolor": "white",
            "ticks": ""
           },
           "bgcolor": "#E5ECF6",
           "caxis": {
            "gridcolor": "white",
            "linecolor": "white",
            "ticks": ""
           }
          },
          "title": {
           "x": 0.05
          },
          "xaxis": {
           "automargin": true,
           "gridcolor": "white",
           "linecolor": "white",
           "ticks": "",
           "title": {
            "standoff": 15
           },
           "zerolinecolor": "white",
           "zerolinewidth": 2
          },
          "yaxis": {
           "automargin": true,
           "gridcolor": "white",
           "linecolor": "white",
           "ticks": "",
           "title": {
            "standoff": 15
           },
           "zerolinecolor": "white",
           "zerolinewidth": 2
          }
         }
        },
        "width": 1400
       }
      }
     },
     "metadata": {},
     "output_type": "display_data"
    }
   ],
   "source": [
    "import pandas as pd\n",
    "import plotly.express as px\n",
    "import os\n",
    "import re\n",
    "\n",
    "# Folder with loss CSVs\n",
    "losses_folder = 'losses2'\n",
    "\n",
    "# Filename pattern (with fold)\n",
    "filename_pattern = r'losses_n(\\d+)_l(\\d+)_dk(\\d+)_dff(\\d+)_do([\\d\\.]+)_fold(\\d+)_multiFold.csv'\n",
    "\n",
    "all_losses_data = []\n",
    "for filename in os.listdir(losses_folder):\n",
    "    if not filename.endswith(\".csv\"):\n",
    "        continue\n",
    "    match = re.search(filename_pattern, filename)\n",
    "    if not match:\n",
    "        continue\n",
    "\n",
    "    n_heads = int(match.group(1))\n",
    "    n_layers = int(match.group(2))\n",
    "    d_k = int(match.group(3))\n",
    "    dff = int(match.group(4))\n",
    "    dropout = float(match.group(5))\n",
    "    fold = int(match.group(6))\n",
    "\n",
    "    df_file = pd.read_csv(os.path.join(losses_folder, filename))\n",
    "    df_file['n_heads'] = n_heads\n",
    "    df_file['n_layers'] = n_layers\n",
    "    df_file['d_k'] = d_k\n",
    "    df_file['dff'] = dff\n",
    "    df_file['dropout'] = dropout\n",
    "    df_file['fold'] = fold\n",
    "    all_losses_data.append(df_file)\n",
    "\n",
    "# Combine all loss files\n",
    "df_combined = pd.concat(all_losses_data, ignore_index=True)\n",
    "\n",
    "# Step 1: Best val_loss per fold\n",
    "df_best_per_fold = df_combined.loc[\n",
    "    df_combined.groupby(['n_heads', 'n_layers', 'd_k', 'dff', 'dropout', 'fold'])['val_loss'].idxmin()\n",
    "].reset_index(drop=True)\n",
    "\n",
    "# Step 2: Average best loss across folds\n",
    "df_plot = df_best_per_fold.groupby(\n",
    "    ['n_heads', 'n_layers', 'd_k', 'dff', 'dropout']\n",
    ")['val_loss'].mean().reset_index()\n",
    "\n",
    "# Rename final column\n",
    "df_plot = df_plot.rename(columns={'val_loss': 'Average Eval Loss'})\n",
    "\n",
    "# Rename hyperparameter columns\n",
    "df_plot = df_plot.rename(columns={\n",
    "    \"n_heads\": \"Number of Heads\",\n",
    "    \"n_layers\": \"Number of Layers\",\n",
    "    \"d_k\": \"d_k\",\n",
    "    \"dropout\": \"Dropout\"\n",
    "})\n",
    "\n",
    "# Flag best configuration\n",
    "best_idx = df_plot[\"Average Eval Loss\"].idxmin()\n",
    "df_plot[\"BestFlag\"] = 0\n",
    "df_plot.loc[best_idx, \"BestFlag\"] = 1\n",
    "\n",
    "# Parallel coordinates plot WITHOUT Feed Forward Dimension\n",
    "fig = px.parallel_coordinates(\n",
    "    df_plot,\n",
    "    color=\"BestFlag\",\n",
    "    dimensions=[\n",
    "        \"Number of Layers\",\n",
    "        \"Number of Heads\",\n",
    "        \"d_k\",\n",
    "        \"Dropout\",\n",
    "        \"Average Eval Loss\"\n",
    "    ],\n",
    "    color_continuous_scale=[[0, \"lightgray\"], [1, \"#9A031E\"]],\n",
    "    range_color=[0, 1]\n",
    ")\n",
    "\n",
    "fig.update_layout(\n",
    "    autosize=False,\n",
    "    width=1400,\n",
    "     height=600,\n",
    "    margin=dict(l=80, r=60, t=60, b=60),\n",
    "    plot_bgcolor=\"white\",\n",
    "    font=dict(family=\"Arial\", size=23, color=\"black\"),coloraxis_showscale=False\n",
    ")\n",
    "\n",
    "fig.show()\n"
   ]
  },
  {
   "cell_type": "code",
   "execution_count": 27,
   "id": "7daccb04",
   "metadata": {},
   "outputs": [
    {
     "data": {
      "application/vnd.plotly.v1+json": {
       "config": {
        "plotlyServerURL": "https://plot.ly"
       },
       "data": [
        {
         "dimensions": [
          {
           "label": "Number of Heads",
           "values": {
            "bdata": "AQECAgMDAgMEAwMCAQEBBAQEAQMCAg==",
            "dtype": "i1"
           }
          },
          {
           "label": "Number of Layers",
           "values": {
            "bdata": "AwICAwMDAgECAQIBAwIBAQECAQIDAQ==",
            "dtype": "i1"
           }
          },
          {
           "label": "d_k",
           "values": {
            "bdata": "ICAgICAgICAgICAgICAgICAgICAgIA==",
            "dtype": "i1"
           }
          },
          {
           "label": "Feed Forward Dimension",
           "values": {
            "bdata": "AAMAAwADAAMAAwADAAMAAwADAAMAAwADAAMAAwADAAMAAwADAAMAAwADAAM=",
            "dtype": "i2"
           }
          },
          {
           "label": "Dropout",
           "values": {
            "bdata": "mpmZmZmZqT+amZmZmZmpP5qZmZmZmak/mpmZmZmZqT+amZmZmZmpP5qZmZmZmbk/mpmZmZmZuT+amZmZmZmpP5qZmZmZmbk/mpmZmZmZuT+amZmZmZmpP5qZmZmZmbk/mpmZmZmZuT+amZmZmZm5P5qZmZmZmbk/mpmZmZmZqT+amZmZmZm5P5qZmZmZmak/mpmZmZmZqT+amZmZmZm5P5qZmZmZmbk/mpmZmZmZqT8=",
            "dtype": "f8"
           }
          },
          {
           "label": "Average Eval Loss",
           "values": {
            "bdata": "zczMjMZqxz8yMzPTo73HP////986zcc/mJmZWX74xz9lZmYGlg3IPzIzM1MhEcg/ZWZmZgYcyD9lZmbGfSLIP5iZmXkGNsg/mJmZeaM5yD+YmZn5okbIP2VmZuZSUsg//v//P01tyD8yMzMTynfIP//////3i8g/mJmZ+cSayD8yMzNzkK/IP5iZmXllwsg//v//n2PJyD//////OdLIP8vMzEzdTsk/zMzM7D98yT8=",
            "dtype": "f8"
           }
          }
         ],
         "domain": {
          "x": [
           0,
           1
          ],
          "y": [
           0,
           1
          ]
         },
         "line": {
          "color": {
           "bdata": "zczMjMZqxz8yMzPTo73HP////986zcc/mJmZWX74xz9lZmYGlg3IPzIzM1MhEcg/ZWZmZgYcyD9lZmbGfSLIP5iZmXkGNsg/mJmZeaM5yD+YmZn5okbIP2VmZuZSUsg//v//P01tyD8yMzMTynfIP//////3i8g/mJmZ+cSayD8yMzNzkK/IP5iZmXllwsg//v//n2PJyD//////OdLIP8vMzEzdTsk/zMzM7D98yT8=",
           "dtype": "f8"
          },
          "coloraxis": "coloraxis"
         },
         "name": "",
         "type": "parcoords"
        }
       ],
       "layout": {
        "autosize": false,
        "coloraxis": {
         "cmax": 0.1991043001413345,
         "cmin": 0.1829460322856903,
         "colorbar": {
          "title": {
           "text": "Average Eval Loss"
          }
         },
         "colorscale": [
          [
           0,
           "#083D77"
          ],
          [
           0.5,
           "#9BC995"
          ],
          [
           0.75,
           "#FC7753"
          ],
          [
           1,
           "#9A031E"
          ]
         ]
        },
        "font": {
         "color": "black",
         "family": "Arial",
         "size": 23
        },
        "height": 600,
        "legend": {
         "tracegroupgap": 0
        },
        "margin": {
         "b": 60,
         "l": 80,
         "r": 60,
         "t": 60
        },
        "plot_bgcolor": "white",
        "template": {
         "data": {
          "bar": [
           {
            "error_x": {
             "color": "#2a3f5f"
            },
            "error_y": {
             "color": "#2a3f5f"
            },
            "marker": {
             "line": {
              "color": "#E5ECF6",
              "width": 0.5
             },
             "pattern": {
              "fillmode": "overlay",
              "size": 10,
              "solidity": 0.2
             }
            },
            "type": "bar"
           }
          ],
          "barpolar": [
           {
            "marker": {
             "line": {
              "color": "#E5ECF6",
              "width": 0.5
             },
             "pattern": {
              "fillmode": "overlay",
              "size": 10,
              "solidity": 0.2
             }
            },
            "type": "barpolar"
           }
          ],
          "carpet": [
           {
            "aaxis": {
             "endlinecolor": "#2a3f5f",
             "gridcolor": "white",
             "linecolor": "white",
             "minorgridcolor": "white",
             "startlinecolor": "#2a3f5f"
            },
            "baxis": {
             "endlinecolor": "#2a3f5f",
             "gridcolor": "white",
             "linecolor": "white",
             "minorgridcolor": "white",
             "startlinecolor": "#2a3f5f"
            },
            "type": "carpet"
           }
          ],
          "choropleth": [
           {
            "colorbar": {
             "outlinewidth": 0,
             "ticks": ""
            },
            "type": "choropleth"
           }
          ],
          "contour": [
           {
            "colorbar": {
             "outlinewidth": 0,
             "ticks": ""
            },
            "colorscale": [
             [
              0,
              "#0d0887"
             ],
             [
              0.1111111111111111,
              "#46039f"
             ],
             [
              0.2222222222222222,
              "#7201a8"
             ],
             [
              0.3333333333333333,
              "#9c179e"
             ],
             [
              0.4444444444444444,
              "#bd3786"
             ],
             [
              0.5555555555555556,
              "#d8576b"
             ],
             [
              0.6666666666666666,
              "#ed7953"
             ],
             [
              0.7777777777777778,
              "#fb9f3a"
             ],
             [
              0.8888888888888888,
              "#fdca26"
             ],
             [
              1,
              "#f0f921"
             ]
            ],
            "type": "contour"
           }
          ],
          "contourcarpet": [
           {
            "colorbar": {
             "outlinewidth": 0,
             "ticks": ""
            },
            "type": "contourcarpet"
           }
          ],
          "heatmap": [
           {
            "colorbar": {
             "outlinewidth": 0,
             "ticks": ""
            },
            "colorscale": [
             [
              0,
              "#0d0887"
             ],
             [
              0.1111111111111111,
              "#46039f"
             ],
             [
              0.2222222222222222,
              "#7201a8"
             ],
             [
              0.3333333333333333,
              "#9c179e"
             ],
             [
              0.4444444444444444,
              "#bd3786"
             ],
             [
              0.5555555555555556,
              "#d8576b"
             ],
             [
              0.6666666666666666,
              "#ed7953"
             ],
             [
              0.7777777777777778,
              "#fb9f3a"
             ],
             [
              0.8888888888888888,
              "#fdca26"
             ],
             [
              1,
              "#f0f921"
             ]
            ],
            "type": "heatmap"
           }
          ],
          "histogram": [
           {
            "marker": {
             "pattern": {
              "fillmode": "overlay",
              "size": 10,
              "solidity": 0.2
             }
            },
            "type": "histogram"
           }
          ],
          "histogram2d": [
           {
            "colorbar": {
             "outlinewidth": 0,
             "ticks": ""
            },
            "colorscale": [
             [
              0,
              "#0d0887"
             ],
             [
              0.1111111111111111,
              "#46039f"
             ],
             [
              0.2222222222222222,
              "#7201a8"
             ],
             [
              0.3333333333333333,
              "#9c179e"
             ],
             [
              0.4444444444444444,
              "#bd3786"
             ],
             [
              0.5555555555555556,
              "#d8576b"
             ],
             [
              0.6666666666666666,
              "#ed7953"
             ],
             [
              0.7777777777777778,
              "#fb9f3a"
             ],
             [
              0.8888888888888888,
              "#fdca26"
             ],
             [
              1,
              "#f0f921"
             ]
            ],
            "type": "histogram2d"
           }
          ],
          "histogram2dcontour": [
           {
            "colorbar": {
             "outlinewidth": 0,
             "ticks": ""
            },
            "colorscale": [
             [
              0,
              "#0d0887"
             ],
             [
              0.1111111111111111,
              "#46039f"
             ],
             [
              0.2222222222222222,
              "#7201a8"
             ],
             [
              0.3333333333333333,
              "#9c179e"
             ],
             [
              0.4444444444444444,
              "#bd3786"
             ],
             [
              0.5555555555555556,
              "#d8576b"
             ],
             [
              0.6666666666666666,
              "#ed7953"
             ],
             [
              0.7777777777777778,
              "#fb9f3a"
             ],
             [
              0.8888888888888888,
              "#fdca26"
             ],
             [
              1,
              "#f0f921"
             ]
            ],
            "type": "histogram2dcontour"
           }
          ],
          "mesh3d": [
           {
            "colorbar": {
             "outlinewidth": 0,
             "ticks": ""
            },
            "type": "mesh3d"
           }
          ],
          "parcoords": [
           {
            "line": {
             "colorbar": {
              "outlinewidth": 0,
              "ticks": ""
             }
            },
            "type": "parcoords"
           }
          ],
          "pie": [
           {
            "automargin": true,
            "type": "pie"
           }
          ],
          "scatter": [
           {
            "fillpattern": {
             "fillmode": "overlay",
             "size": 10,
             "solidity": 0.2
            },
            "type": "scatter"
           }
          ],
          "scatter3d": [
           {
            "line": {
             "colorbar": {
              "outlinewidth": 0,
              "ticks": ""
             }
            },
            "marker": {
             "colorbar": {
              "outlinewidth": 0,
              "ticks": ""
             }
            },
            "type": "scatter3d"
           }
          ],
          "scattercarpet": [
           {
            "marker": {
             "colorbar": {
              "outlinewidth": 0,
              "ticks": ""
             }
            },
            "type": "scattercarpet"
           }
          ],
          "scattergeo": [
           {
            "marker": {
             "colorbar": {
              "outlinewidth": 0,
              "ticks": ""
             }
            },
            "type": "scattergeo"
           }
          ],
          "scattergl": [
           {
            "marker": {
             "colorbar": {
              "outlinewidth": 0,
              "ticks": ""
             }
            },
            "type": "scattergl"
           }
          ],
          "scattermap": [
           {
            "marker": {
             "colorbar": {
              "outlinewidth": 0,
              "ticks": ""
             }
            },
            "type": "scattermap"
           }
          ],
          "scattermapbox": [
           {
            "marker": {
             "colorbar": {
              "outlinewidth": 0,
              "ticks": ""
             }
            },
            "type": "scattermapbox"
           }
          ],
          "scatterpolar": [
           {
            "marker": {
             "colorbar": {
              "outlinewidth": 0,
              "ticks": ""
             }
            },
            "type": "scatterpolar"
           }
          ],
          "scatterpolargl": [
           {
            "marker": {
             "colorbar": {
              "outlinewidth": 0,
              "ticks": ""
             }
            },
            "type": "scatterpolargl"
           }
          ],
          "scatterternary": [
           {
            "marker": {
             "colorbar": {
              "outlinewidth": 0,
              "ticks": ""
             }
            },
            "type": "scatterternary"
           }
          ],
          "surface": [
           {
            "colorbar": {
             "outlinewidth": 0,
             "ticks": ""
            },
            "colorscale": [
             [
              0,
              "#0d0887"
             ],
             [
              0.1111111111111111,
              "#46039f"
             ],
             [
              0.2222222222222222,
              "#7201a8"
             ],
             [
              0.3333333333333333,
              "#9c179e"
             ],
             [
              0.4444444444444444,
              "#bd3786"
             ],
             [
              0.5555555555555556,
              "#d8576b"
             ],
             [
              0.6666666666666666,
              "#ed7953"
             ],
             [
              0.7777777777777778,
              "#fb9f3a"
             ],
             [
              0.8888888888888888,
              "#fdca26"
             ],
             [
              1,
              "#f0f921"
             ]
            ],
            "type": "surface"
           }
          ],
          "table": [
           {
            "cells": {
             "fill": {
              "color": "#EBF0F8"
             },
             "line": {
              "color": "white"
             }
            },
            "header": {
             "fill": {
              "color": "#C8D4E3"
             },
             "line": {
              "color": "white"
             }
            },
            "type": "table"
           }
          ]
         },
         "layout": {
          "annotationdefaults": {
           "arrowcolor": "#2a3f5f",
           "arrowhead": 0,
           "arrowwidth": 1
          },
          "autotypenumbers": "strict",
          "coloraxis": {
           "colorbar": {
            "outlinewidth": 0,
            "ticks": ""
           }
          },
          "colorscale": {
           "diverging": [
            [
             0,
             "#8e0152"
            ],
            [
             0.1,
             "#c51b7d"
            ],
            [
             0.2,
             "#de77ae"
            ],
            [
             0.3,
             "#f1b6da"
            ],
            [
             0.4,
             "#fde0ef"
            ],
            [
             0.5,
             "#f7f7f7"
            ],
            [
             0.6,
             "#e6f5d0"
            ],
            [
             0.7,
             "#b8e186"
            ],
            [
             0.8,
             "#7fbc41"
            ],
            [
             0.9,
             "#4d9221"
            ],
            [
             1,
             "#276419"
            ]
           ],
           "sequential": [
            [
             0,
             "#0d0887"
            ],
            [
             0.1111111111111111,
             "#46039f"
            ],
            [
             0.2222222222222222,
             "#7201a8"
            ],
            [
             0.3333333333333333,
             "#9c179e"
            ],
            [
             0.4444444444444444,
             "#bd3786"
            ],
            [
             0.5555555555555556,
             "#d8576b"
            ],
            [
             0.6666666666666666,
             "#ed7953"
            ],
            [
             0.7777777777777778,
             "#fb9f3a"
            ],
            [
             0.8888888888888888,
             "#fdca26"
            ],
            [
             1,
             "#f0f921"
            ]
           ],
           "sequentialminus": [
            [
             0,
             "#0d0887"
            ],
            [
             0.1111111111111111,
             "#46039f"
            ],
            [
             0.2222222222222222,
             "#7201a8"
            ],
            [
             0.3333333333333333,
             "#9c179e"
            ],
            [
             0.4444444444444444,
             "#bd3786"
            ],
            [
             0.5555555555555556,
             "#d8576b"
            ],
            [
             0.6666666666666666,
             "#ed7953"
            ],
            [
             0.7777777777777778,
             "#fb9f3a"
            ],
            [
             0.8888888888888888,
             "#fdca26"
            ],
            [
             1,
             "#f0f921"
            ]
           ]
          },
          "colorway": [
           "#636efa",
           "#EF553B",
           "#00cc96",
           "#ab63fa",
           "#FFA15A",
           "#19d3f3",
           "#FF6692",
           "#B6E880",
           "#FF97FF",
           "#FECB52"
          ],
          "font": {
           "color": "#2a3f5f"
          },
          "geo": {
           "bgcolor": "white",
           "lakecolor": "white",
           "landcolor": "#E5ECF6",
           "showlakes": true,
           "showland": true,
           "subunitcolor": "white"
          },
          "hoverlabel": {
           "align": "left"
          },
          "hovermode": "closest",
          "mapbox": {
           "style": "light"
          },
          "paper_bgcolor": "white",
          "plot_bgcolor": "#E5ECF6",
          "polar": {
           "angularaxis": {
            "gridcolor": "white",
            "linecolor": "white",
            "ticks": ""
           },
           "bgcolor": "#E5ECF6",
           "radialaxis": {
            "gridcolor": "white",
            "linecolor": "white",
            "ticks": ""
           }
          },
          "scene": {
           "xaxis": {
            "backgroundcolor": "#E5ECF6",
            "gridcolor": "white",
            "gridwidth": 2,
            "linecolor": "white",
            "showbackground": true,
            "ticks": "",
            "zerolinecolor": "white"
           },
           "yaxis": {
            "backgroundcolor": "#E5ECF6",
            "gridcolor": "white",
            "gridwidth": 2,
            "linecolor": "white",
            "showbackground": true,
            "ticks": "",
            "zerolinecolor": "white"
           },
           "zaxis": {
            "backgroundcolor": "#E5ECF6",
            "gridcolor": "white",
            "gridwidth": 2,
            "linecolor": "white",
            "showbackground": true,
            "ticks": "",
            "zerolinecolor": "white"
           }
          },
          "shapedefaults": {
           "line": {
            "color": "#2a3f5f"
           }
          },
          "ternary": {
           "aaxis": {
            "gridcolor": "white",
            "linecolor": "white",
            "ticks": ""
           },
           "baxis": {
            "gridcolor": "white",
            "linecolor": "white",
            "ticks": ""
           },
           "bgcolor": "#E5ECF6",
           "caxis": {
            "gridcolor": "white",
            "linecolor": "white",
            "ticks": ""
           }
          },
          "title": {
           "x": 0.05
          },
          "xaxis": {
           "automargin": true,
           "gridcolor": "white",
           "linecolor": "white",
           "ticks": "",
           "title": {
            "standoff": 15
           },
           "zerolinecolor": "white",
           "zerolinewidth": 2
          },
          "yaxis": {
           "automargin": true,
           "gridcolor": "white",
           "linecolor": "white",
           "ticks": "",
           "title": {
            "standoff": 15
           },
           "zerolinecolor": "white",
           "zerolinewidth": 2
          }
         }
        },
        "width": 1400
       }
      }
     },
     "metadata": {},
     "output_type": "display_data"
    }
   ],
   "source": [
    "import os\n",
    "import re\n",
    "import pandas as pd\n",
    "import plotly.express as px\n",
    "\n",
    "# Folder with loss CSVs\n",
    "losses_folder = 'losses3'\n",
    "\n",
    "# New filename pattern (no fold inside filename anymore)\n",
    "filename_pattern = r'losses_n(\\d+)_l(\\d+)_dk(\\d+)_dff(\\d+)_do([\\d\\.]+)_fiveFold\\.csv'\n",
    "\n",
    "all_losses_data = []\n",
    "for filename in os.listdir(losses_folder):\n",
    "    if not filename.endswith(\".csv\"):\n",
    "        continue\n",
    "    match = re.search(filename_pattern, filename)\n",
    "    if not match:\n",
    "        continue\n",
    "\n",
    "    n_heads = int(match.group(1))\n",
    "    n_layers = int(match.group(2))\n",
    "    d_k = int(match.group(3))\n",
    "    dff = int(match.group(4))\n",
    "    dropout = float(match.group(5))\n",
    "\n",
    "    df_file = pd.read_csv(os.path.join(losses_folder, filename))\n",
    "    df_file['n_heads'] = n_heads\n",
    "    df_file['n_layers'] = n_layers\n",
    "    df_file['d_k'] = d_k\n",
    "    df_file['dff'] = dff\n",
    "    df_file['dropout'] = dropout\n",
    "    all_losses_data.append(df_file)\n",
    "\n",
    "# Combine all loss files\n",
    "df_combined = pd.concat(all_losses_data, ignore_index=True)\n",
    "\n",
    "# Step 1: Best val_loss per fold\n",
    "df_best_per_fold = df_combined.loc[\n",
    "    df_combined.groupby(['n_heads', 'n_layers', 'd_k', 'dff', 'dropout', 'fold'])['val_loss'].idxmin()\n",
    "].reset_index(drop=True)\n",
    "\n",
    "# Step 2: Average best loss across folds\n",
    "df_plot = df_best_per_fold.groupby(\n",
    "    ['n_heads', 'n_layers', 'd_k', 'dff', 'dropout']\n",
    ")['val_loss'].mean().reset_index()\n",
    "\n",
    "# Rename final column\n",
    "df_plot = df_plot.rename(columns={'val_loss': 'Average Eval Loss'})\n",
    "\n",
    "# Rename hyperparameter columns\n",
    "df_plot = df_plot.rename(columns={\n",
    "    \"n_heads\": \"Number of Heads\",\n",
    "    \"n_layers\": \"Number of Layers\",\n",
    "    \"d_k\": \"d_k\",\n",
    "    \"dff\": \"Feed Forward Dimension\",\n",
    "    \"dropout\": \"Dropout\"\n",
    "})\n",
    "\n",
    "# Sort by best loss\n",
    "df_plot = df_plot.sort_values(\"Average Eval Loss\", ascending=True).reset_index(drop=True)\n",
    "\n",
    "# Parallel coordinates plot\n",
    "custom_colors = [\n",
    "    [0.0, \"#083D77\"],\n",
    "    [0.5, \"#9BC995\"],\n",
    "    [0.75, \"#FC7753\"],\n",
    "    [1.0, \"#9A031E\"]\n",
    "]\n",
    "\n",
    "fig = px.parallel_coordinates(\n",
    "    df_plot,\n",
    "    color=\"Average Eval Loss\",\n",
    "    dimensions=[\n",
    "        \"Number of Heads\",\n",
    "         \"Number of Layers\",\n",
    "        \"d_k\",\n",
    "        \"Feed Forward Dimension\",\n",
    "        \"Dropout\",\n",
    "        \"Average Eval Loss\"\n",
    "    ],\n",
    "    color_continuous_scale=custom_colors,\n",
    "    range_color=[df_plot[\"Average Eval Loss\"].min(), df_plot[\"Average Eval Loss\"].max()]\n",
    ")\n",
    "\n",
    "fig.update_layout(\n",
    "    autosize=False,\n",
    "    width=1400,\n",
    "     height=600,\n",
    "    margin=dict(l=80, r=60, t=60, b=60),\n",
    "    plot_bgcolor=\"white\",\n",
    "    font=dict(family=\"Arial\", size=23, color=\"black\")\n",
    ")\n",
    "\n",
    "fig.show()\n"
   ]
  },
  {
   "cell_type": "code",
   "execution_count": null,
   "id": "78aaf17f",
   "metadata": {},
   "outputs": [
    {
     "data": {
      "application/vnd.plotly.v1+json": {
       "config": {
        "plotlyServerURL": "https://plot.ly"
       },
       "data": [
        {
         "dimensions": [
          {
           "label": "Number of Heads",
           "values": {
            "bdata": "AQEBAQEBAgICAgICAwMDAwMDBAQEBA==",
            "dtype": "i1"
           }
          },
          {
           "label": "Number of Layers",
           "values": {
            "bdata": "AQECAgMDAQECAgMDAQECAgMDAQECAg==",
            "dtype": "i1"
           }
          },
          {
           "label": "d_k",
           "values": {
            "bdata": "ICAgICAgICAgICAgICAgICAgICAgIA==",
            "dtype": "i1"
           }
          },
          {
           "label": "Dropout",
           "values": {
            "bdata": "mpmZmZmZqT+amZmZmZm5P5qZmZmZmak/mpmZmZmZuT+amZmZmZmpP5qZmZmZmbk/mpmZmZmZqT+amZmZmZm5P5qZmZmZmak/mpmZmZmZuT+amZmZmZmpP5qZmZmZmbk/mpmZmZmZqT+amZmZmZm5P5qZmZmZmak/mpmZmZmZuT+amZmZmZmpP5qZmZmZmbk/mpmZmZmZqT+amZmZmZm5P5qZmZmZmak/mpmZmZmZuT8=",
            "dtype": "f8"
           }
          },
          {
           "label": "Average Eval Loss",
           "values": {
            "bdata": "/v//n2PJyD//////94vIPzIzM9Ojvcc/MjMzE8p3yD/NzMyMxmrHP/7//z9Nbcg/zMzM7D98yT9lZmbmUlLIP////986zcc/ZWZmZgYcyD+YmZlZfvjHP8vMzEzdTsk/ZWZmxn0iyD+YmZl5oznIP5iZmfmiRsg//////znSyD9lZmYGlg3IPzIzM1MhEcg/mJmZ+cSayD8yMzNzkK/IP5iZmXllwsg/mJmZeQY2yD8=",
            "dtype": "f8"
           }
          }
         ],
         "domain": {
          "x": [
           0,
           1
          ],
          "y": [
           0,
           1
          ]
         },
         "line": {
          "color": {
           "bdata": "AAAAAAEAAAAAAAAAAAAAAAAAAAAAAA==",
           "dtype": "i1"
          },
          "coloraxis": "coloraxis"
         },
         "name": "",
         "type": "parcoords"
        }
       ],
       "layout": {
        "autosize": false,
        "coloraxis": {
         "cmax": 1,
         "cmin": 0,
         "colorbar": {
          "title": {
           "text": "BestFlag"
          }
         },
         "colorscale": [
          [
           0,
           "lightgray"
          ],
          [
           1,
           "#9A031E"
          ]
         ],
         "showscale": false
        },
        "font": {
         "color": "black",
         "family": "Arial",
         "size": 23
        },
        "height": 600,
        "legend": {
         "tracegroupgap": 0
        },
        "margin": {
         "b": 60,
         "l": 80,
         "r": 60,
         "t": 60
        },
        "plot_bgcolor": "white",
        "template": {
         "data": {
          "bar": [
           {
            "error_x": {
             "color": "#2a3f5f"
            },
            "error_y": {
             "color": "#2a3f5f"
            },
            "marker": {
             "line": {
              "color": "#E5ECF6",
              "width": 0.5
             },
             "pattern": {
              "fillmode": "overlay",
              "size": 10,
              "solidity": 0.2
             }
            },
            "type": "bar"
           }
          ],
          "barpolar": [
           {
            "marker": {
             "line": {
              "color": "#E5ECF6",
              "width": 0.5
             },
             "pattern": {
              "fillmode": "overlay",
              "size": 10,
              "solidity": 0.2
             }
            },
            "type": "barpolar"
           }
          ],
          "carpet": [
           {
            "aaxis": {
             "endlinecolor": "#2a3f5f",
             "gridcolor": "white",
             "linecolor": "white",
             "minorgridcolor": "white",
             "startlinecolor": "#2a3f5f"
            },
            "baxis": {
             "endlinecolor": "#2a3f5f",
             "gridcolor": "white",
             "linecolor": "white",
             "minorgridcolor": "white",
             "startlinecolor": "#2a3f5f"
            },
            "type": "carpet"
           }
          ],
          "choropleth": [
           {
            "colorbar": {
             "outlinewidth": 0,
             "ticks": ""
            },
            "type": "choropleth"
           }
          ],
          "contour": [
           {
            "colorbar": {
             "outlinewidth": 0,
             "ticks": ""
            },
            "colorscale": [
             [
              0,
              "#0d0887"
             ],
             [
              0.1111111111111111,
              "#46039f"
             ],
             [
              0.2222222222222222,
              "#7201a8"
             ],
             [
              0.3333333333333333,
              "#9c179e"
             ],
             [
              0.4444444444444444,
              "#bd3786"
             ],
             [
              0.5555555555555556,
              "#d8576b"
             ],
             [
              0.6666666666666666,
              "#ed7953"
             ],
             [
              0.7777777777777778,
              "#fb9f3a"
             ],
             [
              0.8888888888888888,
              "#fdca26"
             ],
             [
              1,
              "#f0f921"
             ]
            ],
            "type": "contour"
           }
          ],
          "contourcarpet": [
           {
            "colorbar": {
             "outlinewidth": 0,
             "ticks": ""
            },
            "type": "contourcarpet"
           }
          ],
          "heatmap": [
           {
            "colorbar": {
             "outlinewidth": 0,
             "ticks": ""
            },
            "colorscale": [
             [
              0,
              "#0d0887"
             ],
             [
              0.1111111111111111,
              "#46039f"
             ],
             [
              0.2222222222222222,
              "#7201a8"
             ],
             [
              0.3333333333333333,
              "#9c179e"
             ],
             [
              0.4444444444444444,
              "#bd3786"
             ],
             [
              0.5555555555555556,
              "#d8576b"
             ],
             [
              0.6666666666666666,
              "#ed7953"
             ],
             [
              0.7777777777777778,
              "#fb9f3a"
             ],
             [
              0.8888888888888888,
              "#fdca26"
             ],
             [
              1,
              "#f0f921"
             ]
            ],
            "type": "heatmap"
           }
          ],
          "histogram": [
           {
            "marker": {
             "pattern": {
              "fillmode": "overlay",
              "size": 10,
              "solidity": 0.2
             }
            },
            "type": "histogram"
           }
          ],
          "histogram2d": [
           {
            "colorbar": {
             "outlinewidth": 0,
             "ticks": ""
            },
            "colorscale": [
             [
              0,
              "#0d0887"
             ],
             [
              0.1111111111111111,
              "#46039f"
             ],
             [
              0.2222222222222222,
              "#7201a8"
             ],
             [
              0.3333333333333333,
              "#9c179e"
             ],
             [
              0.4444444444444444,
              "#bd3786"
             ],
             [
              0.5555555555555556,
              "#d8576b"
             ],
             [
              0.6666666666666666,
              "#ed7953"
             ],
             [
              0.7777777777777778,
              "#fb9f3a"
             ],
             [
              0.8888888888888888,
              "#fdca26"
             ],
             [
              1,
              "#f0f921"
             ]
            ],
            "type": "histogram2d"
           }
          ],
          "histogram2dcontour": [
           {
            "colorbar": {
             "outlinewidth": 0,
             "ticks": ""
            },
            "colorscale": [
             [
              0,
              "#0d0887"
             ],
             [
              0.1111111111111111,
              "#46039f"
             ],
             [
              0.2222222222222222,
              "#7201a8"
             ],
             [
              0.3333333333333333,
              "#9c179e"
             ],
             [
              0.4444444444444444,
              "#bd3786"
             ],
             [
              0.5555555555555556,
              "#d8576b"
             ],
             [
              0.6666666666666666,
              "#ed7953"
             ],
             [
              0.7777777777777778,
              "#fb9f3a"
             ],
             [
              0.8888888888888888,
              "#fdca26"
             ],
             [
              1,
              "#f0f921"
             ]
            ],
            "type": "histogram2dcontour"
           }
          ],
          "mesh3d": [
           {
            "colorbar": {
             "outlinewidth": 0,
             "ticks": ""
            },
            "type": "mesh3d"
           }
          ],
          "parcoords": [
           {
            "line": {
             "colorbar": {
              "outlinewidth": 0,
              "ticks": ""
             }
            },
            "type": "parcoords"
           }
          ],
          "pie": [
           {
            "automargin": true,
            "type": "pie"
           }
          ],
          "scatter": [
           {
            "fillpattern": {
             "fillmode": "overlay",
             "size": 10,
             "solidity": 0.2
            },
            "type": "scatter"
           }
          ],
          "scatter3d": [
           {
            "line": {
             "colorbar": {
              "outlinewidth": 0,
              "ticks": ""
             }
            },
            "marker": {
             "colorbar": {
              "outlinewidth": 0,
              "ticks": ""
             }
            },
            "type": "scatter3d"
           }
          ],
          "scattercarpet": [
           {
            "marker": {
             "colorbar": {
              "outlinewidth": 0,
              "ticks": ""
             }
            },
            "type": "scattercarpet"
           }
          ],
          "scattergeo": [
           {
            "marker": {
             "colorbar": {
              "outlinewidth": 0,
              "ticks": ""
             }
            },
            "type": "scattergeo"
           }
          ],
          "scattergl": [
           {
            "marker": {
             "colorbar": {
              "outlinewidth": 0,
              "ticks": ""
             }
            },
            "type": "scattergl"
           }
          ],
          "scattermap": [
           {
            "marker": {
             "colorbar": {
              "outlinewidth": 0,
              "ticks": ""
             }
            },
            "type": "scattermap"
           }
          ],
          "scattermapbox": [
           {
            "marker": {
             "colorbar": {
              "outlinewidth": 0,
              "ticks": ""
             }
            },
            "type": "scattermapbox"
           }
          ],
          "scatterpolar": [
           {
            "marker": {
             "colorbar": {
              "outlinewidth": 0,
              "ticks": ""
             }
            },
            "type": "scatterpolar"
           }
          ],
          "scatterpolargl": [
           {
            "marker": {
             "colorbar": {
              "outlinewidth": 0,
              "ticks": ""
             }
            },
            "type": "scatterpolargl"
           }
          ],
          "scatterternary": [
           {
            "marker": {
             "colorbar": {
              "outlinewidth": 0,
              "ticks": ""
             }
            },
            "type": "scatterternary"
           }
          ],
          "surface": [
           {
            "colorbar": {
             "outlinewidth": 0,
             "ticks": ""
            },
            "colorscale": [
             [
              0,
              "#0d0887"
             ],
             [
              0.1111111111111111,
              "#46039f"
             ],
             [
              0.2222222222222222,
              "#7201a8"
             ],
             [
              0.3333333333333333,
              "#9c179e"
             ],
             [
              0.4444444444444444,
              "#bd3786"
             ],
             [
              0.5555555555555556,
              "#d8576b"
             ],
             [
              0.6666666666666666,
              "#ed7953"
             ],
             [
              0.7777777777777778,
              "#fb9f3a"
             ],
             [
              0.8888888888888888,
              "#fdca26"
             ],
             [
              1,
              "#f0f921"
             ]
            ],
            "type": "surface"
           }
          ],
          "table": [
           {
            "cells": {
             "fill": {
              "color": "#EBF0F8"
             },
             "line": {
              "color": "white"
             }
            },
            "header": {
             "fill": {
              "color": "#C8D4E3"
             },
             "line": {
              "color": "white"
             }
            },
            "type": "table"
           }
          ]
         },
         "layout": {
          "annotationdefaults": {
           "arrowcolor": "#2a3f5f",
           "arrowhead": 0,
           "arrowwidth": 1
          },
          "autotypenumbers": "strict",
          "coloraxis": {
           "colorbar": {
            "outlinewidth": 0,
            "ticks": ""
           }
          },
          "colorscale": {
           "diverging": [
            [
             0,
             "#8e0152"
            ],
            [
             0.1,
             "#c51b7d"
            ],
            [
             0.2,
             "#de77ae"
            ],
            [
             0.3,
             "#f1b6da"
            ],
            [
             0.4,
             "#fde0ef"
            ],
            [
             0.5,
             "#f7f7f7"
            ],
            [
             0.6,
             "#e6f5d0"
            ],
            [
             0.7,
             "#b8e186"
            ],
            [
             0.8,
             "#7fbc41"
            ],
            [
             0.9,
             "#4d9221"
            ],
            [
             1,
             "#276419"
            ]
           ],
           "sequential": [
            [
             0,
             "#0d0887"
            ],
            [
             0.1111111111111111,
             "#46039f"
            ],
            [
             0.2222222222222222,
             "#7201a8"
            ],
            [
             0.3333333333333333,
             "#9c179e"
            ],
            [
             0.4444444444444444,
             "#bd3786"
            ],
            [
             0.5555555555555556,
             "#d8576b"
            ],
            [
             0.6666666666666666,
             "#ed7953"
            ],
            [
             0.7777777777777778,
             "#fb9f3a"
            ],
            [
             0.8888888888888888,
             "#fdca26"
            ],
            [
             1,
             "#f0f921"
            ]
           ],
           "sequentialminus": [
            [
             0,
             "#0d0887"
            ],
            [
             0.1111111111111111,
             "#46039f"
            ],
            [
             0.2222222222222222,
             "#7201a8"
            ],
            [
             0.3333333333333333,
             "#9c179e"
            ],
            [
             0.4444444444444444,
             "#bd3786"
            ],
            [
             0.5555555555555556,
             "#d8576b"
            ],
            [
             0.6666666666666666,
             "#ed7953"
            ],
            [
             0.7777777777777778,
             "#fb9f3a"
            ],
            [
             0.8888888888888888,
             "#fdca26"
            ],
            [
             1,
             "#f0f921"
            ]
           ]
          },
          "colorway": [
           "#636efa",
           "#EF553B",
           "#00cc96",
           "#ab63fa",
           "#FFA15A",
           "#19d3f3",
           "#FF6692",
           "#B6E880",
           "#FF97FF",
           "#FECB52"
          ],
          "font": {
           "color": "#2a3f5f"
          },
          "geo": {
           "bgcolor": "white",
           "lakecolor": "white",
           "landcolor": "#E5ECF6",
           "showlakes": true,
           "showland": true,
           "subunitcolor": "white"
          },
          "hoverlabel": {
           "align": "left"
          },
          "hovermode": "closest",
          "mapbox": {
           "style": "light"
          },
          "paper_bgcolor": "white",
          "plot_bgcolor": "#E5ECF6",
          "polar": {
           "angularaxis": {
            "gridcolor": "white",
            "linecolor": "white",
            "ticks": ""
           },
           "bgcolor": "#E5ECF6",
           "radialaxis": {
            "gridcolor": "white",
            "linecolor": "white",
            "ticks": ""
           }
          },
          "scene": {
           "xaxis": {
            "backgroundcolor": "#E5ECF6",
            "gridcolor": "white",
            "gridwidth": 2,
            "linecolor": "white",
            "showbackground": true,
            "ticks": "",
            "zerolinecolor": "white"
           },
           "yaxis": {
            "backgroundcolor": "#E5ECF6",
            "gridcolor": "white",
            "gridwidth": 2,
            "linecolor": "white",
            "showbackground": true,
            "ticks": "",
            "zerolinecolor": "white"
           },
           "zaxis": {
            "backgroundcolor": "#E5ECF6",
            "gridcolor": "white",
            "gridwidth": 2,
            "linecolor": "white",
            "showbackground": true,
            "ticks": "",
            "zerolinecolor": "white"
           }
          },
          "shapedefaults": {
           "line": {
            "color": "#2a3f5f"
           }
          },
          "ternary": {
           "aaxis": {
            "gridcolor": "white",
            "linecolor": "white",
            "ticks": ""
           },
           "baxis": {
            "gridcolor": "white",
            "linecolor": "white",
            "ticks": ""
           },
           "bgcolor": "#E5ECF6",
           "caxis": {
            "gridcolor": "white",
            "linecolor": "white",
            "ticks": ""
           }
          },
          "title": {
           "x": 0.05
          },
          "xaxis": {
           "automargin": true,
           "gridcolor": "white",
           "linecolor": "white",
           "ticks": "",
           "title": {
            "standoff": 15
           },
           "zerolinecolor": "white",
           "zerolinewidth": 2
          },
          "yaxis": {
           "automargin": true,
           "gridcolor": "white",
           "linecolor": "white",
           "ticks": "",
           "title": {
            "standoff": 15
           },
           "zerolinecolor": "white",
           "zerolinewidth": 2
          }
         }
        },
        "width": 1400
       }
      }
     },
     "metadata": {},
     "output_type": "display_data"
    }
   ],
   "source": [
    "import os\n",
    "import re\n",
    "import pandas as pd\n",
    "import plotly.express as px\n",
    "\n",
    "# Folder with loss CSVs\n",
    "losses_folder = 'losses3'\n",
    "\n",
    "# New filename pattern (no fold inside filename anymore)\n",
    "filename_pattern = r'losses_n(\\d+)_l(\\d+)_dk(\\d+)_dff(\\d+)_do([\\d\\.]+)_fiveFold'\n",
    "\n",
    "all_losses_data = []\n",
    "for filename in os.listdir(losses_folder):\n",
    "    if not filename.endswith(\".csv\"):\n",
    "        continue\n",
    "    match = re.search(filename_pattern, filename)\n",
    "    if not match:\n",
    "        continue\n",
    "\n",
    "    n_heads = int(match.group(1))\n",
    "    n_layers = int(match.group(2))\n",
    "    d_k = int(match.group(3))\n",
    "    dff = int(match.group(4))\n",
    "    dropout = float(match.group(5))\n",
    "\n",
    "    df_file = pd.read_csv(os.path.join(losses_folder, filename))\n",
    "    df_file['n_heads'] = n_heads\n",
    "    df_file['n_layers'] = n_layers\n",
    "    df_file['d_k'] = d_k\n",
    "    df_file['dff'] = dff\n",
    "    df_file['dropout'] = dropout\n",
    "    all_losses_data.append(df_file)\n",
    "\n",
    "# Combine all loss files\n",
    "df_combined = pd.concat(all_losses_data, ignore_index=True)\n",
    "\n",
    "# Best val_loss per fold (inside each file)\n",
    "df_best_per_fold = df_combined.loc[\n",
    "    df_combined.groupby(['n_heads', 'n_layers', 'd_k', 'dff', 'dropout', 'fold'])['val_loss'].idxmin()\n",
    "].reset_index(drop=True)\n",
    "\n",
    "#Average best loss across folds\n",
    "df_plot = df_best_per_fold.groupby(\n",
    "    ['n_heads', 'n_layers', 'd_k', 'dff', 'dropout']\n",
    ")['val_loss'].mean().reset_index()\n",
    "\n",
    "# Rename final column\n",
    "df_plot = df_plot.rename(columns={'val_loss': 'Average Eval Loss'})\n",
    "\n",
    "# Rename hyperparameter columns\n",
    "df_plot = df_plot.rename(columns={\n",
    "    \"n_heads\": \"Number of Heads\",\n",
    "    \"n_layers\": \"Number of Layers\",\n",
    "    \"d_k\": \"d_k\",\n",
    "    \"dropout\": \"Dropout\"\n",
    "})\n",
    "\n",
    "# Flag best configuration\n",
    "best_idx = df_plot[\"Average Eval Loss\"].idxmin()\n",
    "df_plot[\"BestFlag\"] = 0\n",
    "df_plot.loc[best_idx, \"BestFlag\"] = 1\n",
    "\n",
    "# Parallel coordinates plot WITHOUT Feed Forward Dimension\n",
    "fig = px.parallel_coordinates(\n",
    "    df_plot,\n",
    "    color=\"BestFlag\",\n",
    "    dimensions=[\n",
    "        \"Number of Heads\",\n",
    "        \"Number of Layers\",\n",
    "        \"d_k\",\n",
    "        \"Dropout\",\n",
    "        \"Average Eval Loss\"\n",
    "    ],\n",
    "    color_continuous_scale=[[0, \"lightgray\"], [1, \"#9A031E\"]],\n",
    "    range_color=[0, 1]\n",
    ")\n",
    "\n",
    "fig.update_layout(\n",
    "    autosize=False,\n",
    "    width=1400,\n",
    "     height=600,\n",
    "    margin=dict(l=80, r=60, t=60, b=60),\n",
    "    plot_bgcolor=\"white\",\n",
    "    font=dict(family=\"Arial\", size=23, color=\"black\"),coloraxis_showscale=False\n",
    ")\n",
    "fig.show()\n"
   ]
  }
 ],
 "metadata": {
  "kernelspec": {
   "display_name": "Python 3",
   "language": "python",
   "name": "python3"
  },
  "language_info": {
   "codemirror_mode": {
    "name": "ipython",
    "version": 3
   },
   "file_extension": ".py",
   "mimetype": "text/x-python",
   "name": "python",
   "nbconvert_exporter": "python",
   "pygments_lexer": "ipython3",
   "version": "3.11.9"
  }
 },
 "nbformat": 4,
 "nbformat_minor": 5
}
